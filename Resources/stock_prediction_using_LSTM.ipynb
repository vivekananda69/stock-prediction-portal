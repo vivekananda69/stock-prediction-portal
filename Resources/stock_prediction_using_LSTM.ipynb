{
 "cells": [
  {
   "cell_type": "code",
   "execution_count": 6,
   "id": "d9a680e9-5b8d-46ee-8b73-ef78056f4d69",
   "metadata": {},
   "outputs": [],
   "source": [
    "import numpy as np\n",
    "import pandas as pd\n",
    "import matplotlib.pyplot as plt\n",
    "import yfinance as yf\n",
    "from datetime import datetime"
   ]
  },
  {
   "cell_type": "code",
   "execution_count": null,
   "id": "c34974b3-7573-43bd-b715-c9085ea5002d",
   "metadata": {},
   "outputs": [],
   "source": []
  },
  {
   "cell_type": "markdown",
   "id": "6a50c3ca-1ff6-4974-a9e2-08310ded89ed",
   "metadata": {},
   "source": [
    "# 1. Data Collection"
   ]
  },
  {
   "cell_type": "code",
   "execution_count": 7,
   "id": "526d13af-db07-4f43-b47e-dad3a6f9504f",
   "metadata": {},
   "outputs": [
    {
     "name": "stderr",
     "output_type": "stream",
     "text": [
      "[*********************100%%**********************]  1 of 1 completed\n"
     ]
    },
    {
     "data": {
      "text/html": [
       "<div>\n",
       "<style scoped>\n",
       "    .dataframe tbody tr th:only-of-type {\n",
       "        vertical-align: middle;\n",
       "    }\n",
       "\n",
       "    .dataframe tbody tr th {\n",
       "        vertical-align: top;\n",
       "    }\n",
       "\n",
       "    .dataframe thead th {\n",
       "        text-align: right;\n",
       "    }\n",
       "</style>\n",
       "<table border=\"1\" class=\"dataframe\">\n",
       "  <thead>\n",
       "    <tr style=\"text-align: right;\">\n",
       "      <th></th>\n",
       "      <th>Open</th>\n",
       "      <th>High</th>\n",
       "      <th>Low</th>\n",
       "      <th>Close</th>\n",
       "      <th>Adj Close</th>\n",
       "      <th>Volume</th>\n",
       "    </tr>\n",
       "    <tr>\n",
       "      <th>Date</th>\n",
       "      <th></th>\n",
       "      <th></th>\n",
       "      <th></th>\n",
       "      <th></th>\n",
       "      <th></th>\n",
       "      <th></th>\n",
       "    </tr>\n",
       "  </thead>\n",
       "  <tbody>\n",
       "    <tr>\n",
       "      <th>2014-08-18</th>\n",
       "      <td>24.622499</td>\n",
       "      <td>24.842501</td>\n",
       "      <td>24.495001</td>\n",
       "      <td>24.790001</td>\n",
       "      <td>22.011221</td>\n",
       "      <td>190288000</td>\n",
       "    </tr>\n",
       "    <tr>\n",
       "      <th>2014-08-19</th>\n",
       "      <td>24.852501</td>\n",
       "      <td>25.170000</td>\n",
       "      <td>24.830000</td>\n",
       "      <td>25.132500</td>\n",
       "      <td>22.315331</td>\n",
       "      <td>277596000</td>\n",
       "    </tr>\n",
       "    <tr>\n",
       "      <th>2014-08-20</th>\n",
       "      <td>25.110001</td>\n",
       "      <td>25.272499</td>\n",
       "      <td>24.987499</td>\n",
       "      <td>25.142500</td>\n",
       "      <td>22.324209</td>\n",
       "      <td>210796000</td>\n",
       "    </tr>\n",
       "    <tr>\n",
       "      <th>2014-08-21</th>\n",
       "      <td>25.142500</td>\n",
       "      <td>25.235001</td>\n",
       "      <td>25.027500</td>\n",
       "      <td>25.145000</td>\n",
       "      <td>22.326424</td>\n",
       "      <td>133912000</td>\n",
       "    </tr>\n",
       "    <tr>\n",
       "      <th>2014-08-22</th>\n",
       "      <td>25.072500</td>\n",
       "      <td>25.367500</td>\n",
       "      <td>25.047501</td>\n",
       "      <td>25.330000</td>\n",
       "      <td>22.490688</td>\n",
       "      <td>176736000</td>\n",
       "    </tr>\n",
       "    <tr>\n",
       "      <th>...</th>\n",
       "      <td>...</td>\n",
       "      <td>...</td>\n",
       "      <td>...</td>\n",
       "      <td>...</td>\n",
       "      <td>...</td>\n",
       "      <td>...</td>\n",
       "    </tr>\n",
       "    <tr>\n",
       "      <th>2024-08-12</th>\n",
       "      <td>216.070007</td>\n",
       "      <td>219.509995</td>\n",
       "      <td>215.600006</td>\n",
       "      <td>217.529999</td>\n",
       "      <td>217.529999</td>\n",
       "      <td>38028100</td>\n",
       "    </tr>\n",
       "    <tr>\n",
       "      <th>2024-08-13</th>\n",
       "      <td>219.009995</td>\n",
       "      <td>221.889999</td>\n",
       "      <td>219.009995</td>\n",
       "      <td>221.270004</td>\n",
       "      <td>221.270004</td>\n",
       "      <td>44155300</td>\n",
       "    </tr>\n",
       "    <tr>\n",
       "      <th>2024-08-14</th>\n",
       "      <td>220.570007</td>\n",
       "      <td>223.029999</td>\n",
       "      <td>219.699997</td>\n",
       "      <td>221.720001</td>\n",
       "      <td>221.720001</td>\n",
       "      <td>41960600</td>\n",
       "    </tr>\n",
       "    <tr>\n",
       "      <th>2024-08-15</th>\n",
       "      <td>224.600006</td>\n",
       "      <td>225.350006</td>\n",
       "      <td>222.759995</td>\n",
       "      <td>224.720001</td>\n",
       "      <td>224.720001</td>\n",
       "      <td>46414000</td>\n",
       "    </tr>\n",
       "    <tr>\n",
       "      <th>2024-08-16</th>\n",
       "      <td>223.919998</td>\n",
       "      <td>226.830002</td>\n",
       "      <td>223.649994</td>\n",
       "      <td>226.050003</td>\n",
       "      <td>226.050003</td>\n",
       "      <td>44289900</td>\n",
       "    </tr>\n",
       "  </tbody>\n",
       "</table>\n",
       "<p>2517 rows × 6 columns</p>\n",
       "</div>"
      ],
      "text/plain": [
       "                  Open        High         Low       Close   Adj Close  \\\n",
       "Date                                                                     \n",
       "2014-08-18   24.622499   24.842501   24.495001   24.790001   22.011221   \n",
       "2014-08-19   24.852501   25.170000   24.830000   25.132500   22.315331   \n",
       "2014-08-20   25.110001   25.272499   24.987499   25.142500   22.324209   \n",
       "2014-08-21   25.142500   25.235001   25.027500   25.145000   22.326424   \n",
       "2014-08-22   25.072500   25.367500   25.047501   25.330000   22.490688   \n",
       "...                ...         ...         ...         ...         ...   \n",
       "2024-08-12  216.070007  219.509995  215.600006  217.529999  217.529999   \n",
       "2024-08-13  219.009995  221.889999  219.009995  221.270004  221.270004   \n",
       "2024-08-14  220.570007  223.029999  219.699997  221.720001  221.720001   \n",
       "2024-08-15  224.600006  225.350006  222.759995  224.720001  224.720001   \n",
       "2024-08-16  223.919998  226.830002  223.649994  226.050003  226.050003   \n",
       "\n",
       "               Volume  \n",
       "Date                   \n",
       "2014-08-18  190288000  \n",
       "2014-08-19  277596000  \n",
       "2014-08-20  210796000  \n",
       "2014-08-21  133912000  \n",
       "2014-08-22  176736000  \n",
       "...               ...  \n",
       "2024-08-12   38028100  \n",
       "2024-08-13   44155300  \n",
       "2024-08-14   41960600  \n",
       "2024-08-15   46414000  \n",
       "2024-08-16   44289900  \n",
       "\n",
       "[2517 rows x 6 columns]"
      ]
     },
     "execution_count": 7,
     "metadata": {},
     "output_type": "execute_result"
    }
   ],
   "source": [
    "now = datetime.now()\n",
    "\n",
    "start = datetime(now.year-10, now.month, now.day)\n",
    "end = now\n",
    "ticker = 'AAPL'\n",
    "df = yf.download(ticker, start, end)\n",
    "df"
   ]
  },
  {
   "cell_type": "code",
   "execution_count": 8,
   "id": "604e4b92-0453-4fbc-ad47-70c249200360",
   "metadata": {},
   "outputs": [
    {
     "data": {
      "text/html": [
       "<div>\n",
       "<style scoped>\n",
       "    .dataframe tbody tr th:only-of-type {\n",
       "        vertical-align: middle;\n",
       "    }\n",
       "\n",
       "    .dataframe tbody tr th {\n",
       "        vertical-align: top;\n",
       "    }\n",
       "\n",
       "    .dataframe thead th {\n",
       "        text-align: right;\n",
       "    }\n",
       "</style>\n",
       "<table border=\"1\" class=\"dataframe\">\n",
       "  <thead>\n",
       "    <tr style=\"text-align: right;\">\n",
       "      <th></th>\n",
       "      <th>Open</th>\n",
       "      <th>High</th>\n",
       "      <th>Low</th>\n",
       "      <th>Close</th>\n",
       "      <th>Adj Close</th>\n",
       "      <th>Volume</th>\n",
       "    </tr>\n",
       "    <tr>\n",
       "      <th>Date</th>\n",
       "      <th></th>\n",
       "      <th></th>\n",
       "      <th></th>\n",
       "      <th></th>\n",
       "      <th></th>\n",
       "      <th></th>\n",
       "    </tr>\n",
       "  </thead>\n",
       "  <tbody>\n",
       "    <tr>\n",
       "      <th>2014-08-18</th>\n",
       "      <td>24.622499</td>\n",
       "      <td>24.842501</td>\n",
       "      <td>24.495001</td>\n",
       "      <td>24.790001</td>\n",
       "      <td>22.011221</td>\n",
       "      <td>190288000</td>\n",
       "    </tr>\n",
       "    <tr>\n",
       "      <th>2014-08-19</th>\n",
       "      <td>24.852501</td>\n",
       "      <td>25.170000</td>\n",
       "      <td>24.830000</td>\n",
       "      <td>25.132500</td>\n",
       "      <td>22.315331</td>\n",
       "      <td>277596000</td>\n",
       "    </tr>\n",
       "    <tr>\n",
       "      <th>2014-08-20</th>\n",
       "      <td>25.110001</td>\n",
       "      <td>25.272499</td>\n",
       "      <td>24.987499</td>\n",
       "      <td>25.142500</td>\n",
       "      <td>22.324209</td>\n",
       "      <td>210796000</td>\n",
       "    </tr>\n",
       "    <tr>\n",
       "      <th>2014-08-21</th>\n",
       "      <td>25.142500</td>\n",
       "      <td>25.235001</td>\n",
       "      <td>25.027500</td>\n",
       "      <td>25.145000</td>\n",
       "      <td>22.326424</td>\n",
       "      <td>133912000</td>\n",
       "    </tr>\n",
       "    <tr>\n",
       "      <th>2014-08-22</th>\n",
       "      <td>25.072500</td>\n",
       "      <td>25.367500</td>\n",
       "      <td>25.047501</td>\n",
       "      <td>25.330000</td>\n",
       "      <td>22.490688</td>\n",
       "      <td>176736000</td>\n",
       "    </tr>\n",
       "  </tbody>\n",
       "</table>\n",
       "</div>"
      ],
      "text/plain": [
       "                 Open       High        Low      Close  Adj Close     Volume\n",
       "Date                                                                        \n",
       "2014-08-18  24.622499  24.842501  24.495001  24.790001  22.011221  190288000\n",
       "2014-08-19  24.852501  25.170000  24.830000  25.132500  22.315331  277596000\n",
       "2014-08-20  25.110001  25.272499  24.987499  25.142500  22.324209  210796000\n",
       "2014-08-21  25.142500  25.235001  25.027500  25.145000  22.326424  133912000\n",
       "2014-08-22  25.072500  25.367500  25.047501  25.330000  22.490688  176736000"
      ]
     },
     "execution_count": 8,
     "metadata": {},
     "output_type": "execute_result"
    }
   ],
   "source": [
    "df.head()"
   ]
  },
  {
   "cell_type": "code",
   "execution_count": 9,
   "id": "745bcba2-aa2e-44b2-960b-88f1eaab9d54",
   "metadata": {},
   "outputs": [
    {
     "data": {
      "text/html": [
       "<div>\n",
       "<style scoped>\n",
       "    .dataframe tbody tr th:only-of-type {\n",
       "        vertical-align: middle;\n",
       "    }\n",
       "\n",
       "    .dataframe tbody tr th {\n",
       "        vertical-align: top;\n",
       "    }\n",
       "\n",
       "    .dataframe thead th {\n",
       "        text-align: right;\n",
       "    }\n",
       "</style>\n",
       "<table border=\"1\" class=\"dataframe\">\n",
       "  <thead>\n",
       "    <tr style=\"text-align: right;\">\n",
       "      <th></th>\n",
       "      <th>Open</th>\n",
       "      <th>High</th>\n",
       "      <th>Low</th>\n",
       "      <th>Close</th>\n",
       "      <th>Adj Close</th>\n",
       "      <th>Volume</th>\n",
       "    </tr>\n",
       "    <tr>\n",
       "      <th>Date</th>\n",
       "      <th></th>\n",
       "      <th></th>\n",
       "      <th></th>\n",
       "      <th></th>\n",
       "      <th></th>\n",
       "      <th></th>\n",
       "    </tr>\n",
       "  </thead>\n",
       "  <tbody>\n",
       "    <tr>\n",
       "      <th>2024-08-12</th>\n",
       "      <td>216.070007</td>\n",
       "      <td>219.509995</td>\n",
       "      <td>215.600006</td>\n",
       "      <td>217.529999</td>\n",
       "      <td>217.529999</td>\n",
       "      <td>38028100</td>\n",
       "    </tr>\n",
       "    <tr>\n",
       "      <th>2024-08-13</th>\n",
       "      <td>219.009995</td>\n",
       "      <td>221.889999</td>\n",
       "      <td>219.009995</td>\n",
       "      <td>221.270004</td>\n",
       "      <td>221.270004</td>\n",
       "      <td>44155300</td>\n",
       "    </tr>\n",
       "    <tr>\n",
       "      <th>2024-08-14</th>\n",
       "      <td>220.570007</td>\n",
       "      <td>223.029999</td>\n",
       "      <td>219.699997</td>\n",
       "      <td>221.720001</td>\n",
       "      <td>221.720001</td>\n",
       "      <td>41960600</td>\n",
       "    </tr>\n",
       "    <tr>\n",
       "      <th>2024-08-15</th>\n",
       "      <td>224.600006</td>\n",
       "      <td>225.350006</td>\n",
       "      <td>222.759995</td>\n",
       "      <td>224.720001</td>\n",
       "      <td>224.720001</td>\n",
       "      <td>46414000</td>\n",
       "    </tr>\n",
       "    <tr>\n",
       "      <th>2024-08-16</th>\n",
       "      <td>223.919998</td>\n",
       "      <td>226.830002</td>\n",
       "      <td>223.649994</td>\n",
       "      <td>226.050003</td>\n",
       "      <td>226.050003</td>\n",
       "      <td>44289900</td>\n",
       "    </tr>\n",
       "  </tbody>\n",
       "</table>\n",
       "</div>"
      ],
      "text/plain": [
       "                  Open        High         Low       Close   Adj Close  \\\n",
       "Date                                                                     \n",
       "2024-08-12  216.070007  219.509995  215.600006  217.529999  217.529999   \n",
       "2024-08-13  219.009995  221.889999  219.009995  221.270004  221.270004   \n",
       "2024-08-14  220.570007  223.029999  219.699997  221.720001  221.720001   \n",
       "2024-08-15  224.600006  225.350006  222.759995  224.720001  224.720001   \n",
       "2024-08-16  223.919998  226.830002  223.649994  226.050003  226.050003   \n",
       "\n",
       "              Volume  \n",
       "Date                  \n",
       "2024-08-12  38028100  \n",
       "2024-08-13  44155300  \n",
       "2024-08-14  41960600  \n",
       "2024-08-15  46414000  \n",
       "2024-08-16  44289900  "
      ]
     },
     "execution_count": 9,
     "metadata": {},
     "output_type": "execute_result"
    }
   ],
   "source": [
    "df.tail()"
   ]
  },
  {
   "cell_type": "code",
   "execution_count": null,
   "id": "3992084b-4b1d-4bf6-9975-73df91574cd5",
   "metadata": {},
   "outputs": [],
   "source": []
  },
  {
   "cell_type": "markdown",
   "id": "61b00e60-0d0d-499f-a5a1-55a8b7ab398c",
   "metadata": {},
   "source": [
    "# 2. Data Exploration & Visualization"
   ]
  },
  {
   "cell_type": "code",
   "execution_count": 10,
   "id": "9c2c7530-fc12-40e8-b0ab-60c4ee42f214",
   "metadata": {},
   "outputs": [
    {
     "data": {
      "text/html": [
       "<div>\n",
       "<style scoped>\n",
       "    .dataframe tbody tr th:only-of-type {\n",
       "        vertical-align: middle;\n",
       "    }\n",
       "\n",
       "    .dataframe tbody tr th {\n",
       "        vertical-align: top;\n",
       "    }\n",
       "\n",
       "    .dataframe thead th {\n",
       "        text-align: right;\n",
       "    }\n",
       "</style>\n",
       "<table border=\"1\" class=\"dataframe\">\n",
       "  <thead>\n",
       "    <tr style=\"text-align: right;\">\n",
       "      <th></th>\n",
       "      <th>Open</th>\n",
       "      <th>High</th>\n",
       "      <th>Low</th>\n",
       "      <th>Close</th>\n",
       "      <th>Adj Close</th>\n",
       "      <th>Volume</th>\n",
       "    </tr>\n",
       "    <tr>\n",
       "      <th>Date</th>\n",
       "      <th></th>\n",
       "      <th></th>\n",
       "      <th></th>\n",
       "      <th></th>\n",
       "      <th></th>\n",
       "      <th></th>\n",
       "    </tr>\n",
       "  </thead>\n",
       "  <tbody>\n",
       "    <tr>\n",
       "      <th>2014-08-18</th>\n",
       "      <td>24.622499</td>\n",
       "      <td>24.842501</td>\n",
       "      <td>24.495001</td>\n",
       "      <td>24.790001</td>\n",
       "      <td>22.011221</td>\n",
       "      <td>190288000</td>\n",
       "    </tr>\n",
       "    <tr>\n",
       "      <th>2014-08-19</th>\n",
       "      <td>24.852501</td>\n",
       "      <td>25.170000</td>\n",
       "      <td>24.830000</td>\n",
       "      <td>25.132500</td>\n",
       "      <td>22.315331</td>\n",
       "      <td>277596000</td>\n",
       "    </tr>\n",
       "    <tr>\n",
       "      <th>2014-08-20</th>\n",
       "      <td>25.110001</td>\n",
       "      <td>25.272499</td>\n",
       "      <td>24.987499</td>\n",
       "      <td>25.142500</td>\n",
       "      <td>22.324209</td>\n",
       "      <td>210796000</td>\n",
       "    </tr>\n",
       "    <tr>\n",
       "      <th>2014-08-21</th>\n",
       "      <td>25.142500</td>\n",
       "      <td>25.235001</td>\n",
       "      <td>25.027500</td>\n",
       "      <td>25.145000</td>\n",
       "      <td>22.326424</td>\n",
       "      <td>133912000</td>\n",
       "    </tr>\n",
       "    <tr>\n",
       "      <th>2014-08-22</th>\n",
       "      <td>25.072500</td>\n",
       "      <td>25.367500</td>\n",
       "      <td>25.047501</td>\n",
       "      <td>25.330000</td>\n",
       "      <td>22.490688</td>\n",
       "      <td>176736000</td>\n",
       "    </tr>\n",
       "    <tr>\n",
       "      <th>...</th>\n",
       "      <td>...</td>\n",
       "      <td>...</td>\n",
       "      <td>...</td>\n",
       "      <td>...</td>\n",
       "      <td>...</td>\n",
       "      <td>...</td>\n",
       "    </tr>\n",
       "    <tr>\n",
       "      <th>2024-08-12</th>\n",
       "      <td>216.070007</td>\n",
       "      <td>219.509995</td>\n",
       "      <td>215.600006</td>\n",
       "      <td>217.529999</td>\n",
       "      <td>217.529999</td>\n",
       "      <td>38028100</td>\n",
       "    </tr>\n",
       "    <tr>\n",
       "      <th>2024-08-13</th>\n",
       "      <td>219.009995</td>\n",
       "      <td>221.889999</td>\n",
       "      <td>219.009995</td>\n",
       "      <td>221.270004</td>\n",
       "      <td>221.270004</td>\n",
       "      <td>44155300</td>\n",
       "    </tr>\n",
       "    <tr>\n",
       "      <th>2024-08-14</th>\n",
       "      <td>220.570007</td>\n",
       "      <td>223.029999</td>\n",
       "      <td>219.699997</td>\n",
       "      <td>221.720001</td>\n",
       "      <td>221.720001</td>\n",
       "      <td>41960600</td>\n",
       "    </tr>\n",
       "    <tr>\n",
       "      <th>2024-08-15</th>\n",
       "      <td>224.600006</td>\n",
       "      <td>225.350006</td>\n",
       "      <td>222.759995</td>\n",
       "      <td>224.720001</td>\n",
       "      <td>224.720001</td>\n",
       "      <td>46414000</td>\n",
       "    </tr>\n",
       "    <tr>\n",
       "      <th>2024-08-16</th>\n",
       "      <td>223.919998</td>\n",
       "      <td>226.830002</td>\n",
       "      <td>223.649994</td>\n",
       "      <td>226.050003</td>\n",
       "      <td>226.050003</td>\n",
       "      <td>44289900</td>\n",
       "    </tr>\n",
       "  </tbody>\n",
       "</table>\n",
       "<p>2517 rows × 6 columns</p>\n",
       "</div>"
      ],
      "text/plain": [
       "                  Open        High         Low       Close   Adj Close  \\\n",
       "Date                                                                     \n",
       "2014-08-18   24.622499   24.842501   24.495001   24.790001   22.011221   \n",
       "2014-08-19   24.852501   25.170000   24.830000   25.132500   22.315331   \n",
       "2014-08-20   25.110001   25.272499   24.987499   25.142500   22.324209   \n",
       "2014-08-21   25.142500   25.235001   25.027500   25.145000   22.326424   \n",
       "2014-08-22   25.072500   25.367500   25.047501   25.330000   22.490688   \n",
       "...                ...         ...         ...         ...         ...   \n",
       "2024-08-12  216.070007  219.509995  215.600006  217.529999  217.529999   \n",
       "2024-08-13  219.009995  221.889999  219.009995  221.270004  221.270004   \n",
       "2024-08-14  220.570007  223.029999  219.699997  221.720001  221.720001   \n",
       "2024-08-15  224.600006  225.350006  222.759995  224.720001  224.720001   \n",
       "2024-08-16  223.919998  226.830002  223.649994  226.050003  226.050003   \n",
       "\n",
       "               Volume  \n",
       "Date                   \n",
       "2014-08-18  190288000  \n",
       "2014-08-19  277596000  \n",
       "2014-08-20  210796000  \n",
       "2014-08-21  133912000  \n",
       "2014-08-22  176736000  \n",
       "...               ...  \n",
       "2024-08-12   38028100  \n",
       "2024-08-13   44155300  \n",
       "2024-08-14   41960600  \n",
       "2024-08-15   46414000  \n",
       "2024-08-16   44289900  \n",
       "\n",
       "[2517 rows x 6 columns]"
      ]
     },
     "execution_count": 10,
     "metadata": {},
     "output_type": "execute_result"
    }
   ],
   "source": [
    "df"
   ]
  },
  {
   "cell_type": "code",
   "execution_count": 11,
   "id": "77a91477-c895-463d-b49d-7110aab738b1",
   "metadata": {},
   "outputs": [
    {
     "data": {
      "text/plain": [
       "pandas.core.frame.DataFrame"
      ]
     },
     "execution_count": 11,
     "metadata": {},
     "output_type": "execute_result"
    }
   ],
   "source": [
    "type(df)"
   ]
  },
  {
   "cell_type": "code",
   "execution_count": 12,
   "id": "6bee42c4-081d-4c01-9a9e-a409c246bb68",
   "metadata": {},
   "outputs": [
    {
     "data": {
      "text/plain": [
       "(2517, 6)"
      ]
     },
     "execution_count": 12,
     "metadata": {},
     "output_type": "execute_result"
    }
   ],
   "source": [
    "df.shape"
   ]
  },
  {
   "cell_type": "code",
   "execution_count": 13,
   "id": "1f601dc5-e5e9-435c-9d18-6fd2b10af077",
   "metadata": {},
   "outputs": [
    {
     "data": {
      "text/plain": [
       "Open         0\n",
       "High         0\n",
       "Low          0\n",
       "Close        0\n",
       "Adj Close    0\n",
       "Volume       0\n",
       "dtype: int64"
      ]
     },
     "execution_count": 13,
     "metadata": {},
     "output_type": "execute_result"
    }
   ],
   "source": [
    "df.isna().sum()"
   ]
  },
  {
   "cell_type": "code",
   "execution_count": 14,
   "id": "c61cdd63-39d9-4728-9790-ecfdf116ecea",
   "metadata": {},
   "outputs": [
    {
     "data": {
      "text/html": [
       "<div>\n",
       "<style scoped>\n",
       "    .dataframe tbody tr th:only-of-type {\n",
       "        vertical-align: middle;\n",
       "    }\n",
       "\n",
       "    .dataframe tbody tr th {\n",
       "        vertical-align: top;\n",
       "    }\n",
       "\n",
       "    .dataframe thead th {\n",
       "        text-align: right;\n",
       "    }\n",
       "</style>\n",
       "<table border=\"1\" class=\"dataframe\">\n",
       "  <thead>\n",
       "    <tr style=\"text-align: right;\">\n",
       "      <th></th>\n",
       "      <th>Open</th>\n",
       "      <th>High</th>\n",
       "      <th>Low</th>\n",
       "      <th>Close</th>\n",
       "      <th>Adj Close</th>\n",
       "      <th>Volume</th>\n",
       "    </tr>\n",
       "  </thead>\n",
       "  <tbody>\n",
       "    <tr>\n",
       "      <th>count</th>\n",
       "      <td>2517.000000</td>\n",
       "      <td>2517.000000</td>\n",
       "      <td>2517.000000</td>\n",
       "      <td>2517.000000</td>\n",
       "      <td>2517.000000</td>\n",
       "      <td>2.517000e+03</td>\n",
       "    </tr>\n",
       "    <tr>\n",
       "      <th>mean</th>\n",
       "      <td>88.581820</td>\n",
       "      <td>89.541598</td>\n",
       "      <td>87.687229</td>\n",
       "      <td>88.654961</td>\n",
       "      <td>86.564485</td>\n",
       "      <td>1.236502e+08</td>\n",
       "    </tr>\n",
       "    <tr>\n",
       "      <th>std</th>\n",
       "      <td>60.667516</td>\n",
       "      <td>61.336215</td>\n",
       "      <td>60.057910</td>\n",
       "      <td>60.726226</td>\n",
       "      <td>61.174027</td>\n",
       "      <td>7.177504e+07</td>\n",
       "    </tr>\n",
       "    <tr>\n",
       "      <th>min</th>\n",
       "      <td>22.500000</td>\n",
       "      <td>22.917500</td>\n",
       "      <td>22.367500</td>\n",
       "      <td>22.584999</td>\n",
       "      <td>20.720030</td>\n",
       "      <td>2.404830e+07</td>\n",
       "    </tr>\n",
       "    <tr>\n",
       "      <th>25%</th>\n",
       "      <td>33.775002</td>\n",
       "      <td>33.957500</td>\n",
       "      <td>33.654999</td>\n",
       "      <td>33.837502</td>\n",
       "      <td>31.507788</td>\n",
       "      <td>7.516930e+07</td>\n",
       "    </tr>\n",
       "    <tr>\n",
       "      <th>50%</th>\n",
       "      <td>55.195000</td>\n",
       "      <td>55.720001</td>\n",
       "      <td>54.412498</td>\n",
       "      <td>55.205002</td>\n",
       "      <td>52.928864</td>\n",
       "      <td>1.047684e+08</td>\n",
       "    </tr>\n",
       "    <tr>\n",
       "      <th>75%</th>\n",
       "      <td>147.270004</td>\n",
       "      <td>149.050003</td>\n",
       "      <td>145.809998</td>\n",
       "      <td>147.539993</td>\n",
       "      <td>145.656143</td>\n",
       "      <td>1.508388e+08</td>\n",
       "    </tr>\n",
       "    <tr>\n",
       "      <th>max</th>\n",
       "      <td>236.479996</td>\n",
       "      <td>237.229996</td>\n",
       "      <td>233.089996</td>\n",
       "      <td>234.820007</td>\n",
       "      <td>234.548523</td>\n",
       "      <td>7.593852e+08</td>\n",
       "    </tr>\n",
       "  </tbody>\n",
       "</table>\n",
       "</div>"
      ],
      "text/plain": [
       "              Open         High          Low        Close    Adj Close  \\\n",
       "count  2517.000000  2517.000000  2517.000000  2517.000000  2517.000000   \n",
       "mean     88.581820    89.541598    87.687229    88.654961    86.564485   \n",
       "std      60.667516    61.336215    60.057910    60.726226    61.174027   \n",
       "min      22.500000    22.917500    22.367500    22.584999    20.720030   \n",
       "25%      33.775002    33.957500    33.654999    33.837502    31.507788   \n",
       "50%      55.195000    55.720001    54.412498    55.205002    52.928864   \n",
       "75%     147.270004   149.050003   145.809998   147.539993   145.656143   \n",
       "max     236.479996   237.229996   233.089996   234.820007   234.548523   \n",
       "\n",
       "             Volume  \n",
       "count  2.517000e+03  \n",
       "mean   1.236502e+08  \n",
       "std    7.177504e+07  \n",
       "min    2.404830e+07  \n",
       "25%    7.516930e+07  \n",
       "50%    1.047684e+08  \n",
       "75%    1.508388e+08  \n",
       "max    7.593852e+08  "
      ]
     },
     "execution_count": 14,
     "metadata": {},
     "output_type": "execute_result"
    }
   ],
   "source": [
    "df.describe()"
   ]
  },
  {
   "cell_type": "code",
   "execution_count": 15,
   "id": "45ecd6d4-4d9f-499c-965d-4f2f6d3bfeb1",
   "metadata": {},
   "outputs": [
    {
     "data": {
      "text/plain": [
       "Open         float64\n",
       "High         float64\n",
       "Low          float64\n",
       "Close        float64\n",
       "Adj Close    float64\n",
       "Volume         int64\n",
       "dtype: object"
      ]
     },
     "execution_count": 15,
     "metadata": {},
     "output_type": "execute_result"
    }
   ],
   "source": [
    "df.dtypes"
   ]
  },
  {
   "cell_type": "code",
   "execution_count": 16,
   "id": "fceb362d-c504-4bb0-bf3b-ebe65e89b9ed",
   "metadata": {},
   "outputs": [
    {
     "data": {
      "text/html": [
       "<div>\n",
       "<style scoped>\n",
       "    .dataframe tbody tr th:only-of-type {\n",
       "        vertical-align: middle;\n",
       "    }\n",
       "\n",
       "    .dataframe tbody tr th {\n",
       "        vertical-align: top;\n",
       "    }\n",
       "\n",
       "    .dataframe thead th {\n",
       "        text-align: right;\n",
       "    }\n",
       "</style>\n",
       "<table border=\"1\" class=\"dataframe\">\n",
       "  <thead>\n",
       "    <tr style=\"text-align: right;\">\n",
       "      <th></th>\n",
       "      <th>Open</th>\n",
       "      <th>High</th>\n",
       "      <th>Low</th>\n",
       "      <th>Close</th>\n",
       "      <th>Adj Close</th>\n",
       "      <th>Volume</th>\n",
       "    </tr>\n",
       "    <tr>\n",
       "      <th>Date</th>\n",
       "      <th></th>\n",
       "      <th></th>\n",
       "      <th></th>\n",
       "      <th></th>\n",
       "      <th></th>\n",
       "      <th></th>\n",
       "    </tr>\n",
       "  </thead>\n",
       "  <tbody>\n",
       "    <tr>\n",
       "      <th>2014-08-18</th>\n",
       "      <td>24.622499</td>\n",
       "      <td>24.842501</td>\n",
       "      <td>24.495001</td>\n",
       "      <td>24.790001</td>\n",
       "      <td>22.011221</td>\n",
       "      <td>190288000</td>\n",
       "    </tr>\n",
       "    <tr>\n",
       "      <th>2014-08-19</th>\n",
       "      <td>24.852501</td>\n",
       "      <td>25.170000</td>\n",
       "      <td>24.830000</td>\n",
       "      <td>25.132500</td>\n",
       "      <td>22.315331</td>\n",
       "      <td>277596000</td>\n",
       "    </tr>\n",
       "    <tr>\n",
       "      <th>2014-08-20</th>\n",
       "      <td>25.110001</td>\n",
       "      <td>25.272499</td>\n",
       "      <td>24.987499</td>\n",
       "      <td>25.142500</td>\n",
       "      <td>22.324209</td>\n",
       "      <td>210796000</td>\n",
       "    </tr>\n",
       "    <tr>\n",
       "      <th>2014-08-21</th>\n",
       "      <td>25.142500</td>\n",
       "      <td>25.235001</td>\n",
       "      <td>25.027500</td>\n",
       "      <td>25.145000</td>\n",
       "      <td>22.326424</td>\n",
       "      <td>133912000</td>\n",
       "    </tr>\n",
       "    <tr>\n",
       "      <th>2014-08-22</th>\n",
       "      <td>25.072500</td>\n",
       "      <td>25.367500</td>\n",
       "      <td>25.047501</td>\n",
       "      <td>25.330000</td>\n",
       "      <td>22.490688</td>\n",
       "      <td>176736000</td>\n",
       "    </tr>\n",
       "  </tbody>\n",
       "</table>\n",
       "</div>"
      ],
      "text/plain": [
       "                 Open       High        Low      Close  Adj Close     Volume\n",
       "Date                                                                        \n",
       "2014-08-18  24.622499  24.842501  24.495001  24.790001  22.011221  190288000\n",
       "2014-08-19  24.852501  25.170000  24.830000  25.132500  22.315331  277596000\n",
       "2014-08-20  25.110001  25.272499  24.987499  25.142500  22.324209  210796000\n",
       "2014-08-21  25.142500  25.235001  25.027500  25.145000  22.326424  133912000\n",
       "2014-08-22  25.072500  25.367500  25.047501  25.330000  22.490688  176736000"
      ]
     },
     "execution_count": 16,
     "metadata": {},
     "output_type": "execute_result"
    }
   ],
   "source": [
    "df.head()"
   ]
  },
  {
   "cell_type": "code",
   "execution_count": 17,
   "id": "0e4c89d7-6e94-48f9-b6a3-a30e9902db97",
   "metadata": {},
   "outputs": [],
   "source": [
    "df = df.reset_index()"
   ]
  },
  {
   "cell_type": "code",
   "execution_count": 18,
   "id": "15f47480-3f23-454f-a472-a21e4a7f1b40",
   "metadata": {},
   "outputs": [
    {
     "data": {
      "text/html": [
       "<div>\n",
       "<style scoped>\n",
       "    .dataframe tbody tr th:only-of-type {\n",
       "        vertical-align: middle;\n",
       "    }\n",
       "\n",
       "    .dataframe tbody tr th {\n",
       "        vertical-align: top;\n",
       "    }\n",
       "\n",
       "    .dataframe thead th {\n",
       "        text-align: right;\n",
       "    }\n",
       "</style>\n",
       "<table border=\"1\" class=\"dataframe\">\n",
       "  <thead>\n",
       "    <tr style=\"text-align: right;\">\n",
       "      <th></th>\n",
       "      <th>Date</th>\n",
       "      <th>Open</th>\n",
       "      <th>High</th>\n",
       "      <th>Low</th>\n",
       "      <th>Close</th>\n",
       "      <th>Adj Close</th>\n",
       "      <th>Volume</th>\n",
       "    </tr>\n",
       "  </thead>\n",
       "  <tbody>\n",
       "    <tr>\n",
       "      <th>0</th>\n",
       "      <td>2014-08-18</td>\n",
       "      <td>24.622499</td>\n",
       "      <td>24.842501</td>\n",
       "      <td>24.495001</td>\n",
       "      <td>24.790001</td>\n",
       "      <td>22.011221</td>\n",
       "      <td>190288000</td>\n",
       "    </tr>\n",
       "    <tr>\n",
       "      <th>1</th>\n",
       "      <td>2014-08-19</td>\n",
       "      <td>24.852501</td>\n",
       "      <td>25.170000</td>\n",
       "      <td>24.830000</td>\n",
       "      <td>25.132500</td>\n",
       "      <td>22.315331</td>\n",
       "      <td>277596000</td>\n",
       "    </tr>\n",
       "    <tr>\n",
       "      <th>2</th>\n",
       "      <td>2014-08-20</td>\n",
       "      <td>25.110001</td>\n",
       "      <td>25.272499</td>\n",
       "      <td>24.987499</td>\n",
       "      <td>25.142500</td>\n",
       "      <td>22.324209</td>\n",
       "      <td>210796000</td>\n",
       "    </tr>\n",
       "    <tr>\n",
       "      <th>3</th>\n",
       "      <td>2014-08-21</td>\n",
       "      <td>25.142500</td>\n",
       "      <td>25.235001</td>\n",
       "      <td>25.027500</td>\n",
       "      <td>25.145000</td>\n",
       "      <td>22.326424</td>\n",
       "      <td>133912000</td>\n",
       "    </tr>\n",
       "    <tr>\n",
       "      <th>4</th>\n",
       "      <td>2014-08-22</td>\n",
       "      <td>25.072500</td>\n",
       "      <td>25.367500</td>\n",
       "      <td>25.047501</td>\n",
       "      <td>25.330000</td>\n",
       "      <td>22.490688</td>\n",
       "      <td>176736000</td>\n",
       "    </tr>\n",
       "  </tbody>\n",
       "</table>\n",
       "</div>"
      ],
      "text/plain": [
       "        Date       Open       High        Low      Close  Adj Close     Volume\n",
       "0 2014-08-18  24.622499  24.842501  24.495001  24.790001  22.011221  190288000\n",
       "1 2014-08-19  24.852501  25.170000  24.830000  25.132500  22.315331  277596000\n",
       "2 2014-08-20  25.110001  25.272499  24.987499  25.142500  22.324209  210796000\n",
       "3 2014-08-21  25.142500  25.235001  25.027500  25.145000  22.326424  133912000\n",
       "4 2014-08-22  25.072500  25.367500  25.047501  25.330000  22.490688  176736000"
      ]
     },
     "execution_count": 18,
     "metadata": {},
     "output_type": "execute_result"
    }
   ],
   "source": [
    "df.head()"
   ]
  },
  {
   "cell_type": "code",
   "execution_count": null,
   "id": "71c54cc4-6107-445c-a8a3-01458ce04eb3",
   "metadata": {},
   "outputs": [],
   "source": []
  },
  {
   "cell_type": "code",
   "execution_count": 19,
   "id": "d54fae07-e9f5-4cdc-9941-1aa63fc2ea2d",
   "metadata": {},
   "outputs": [
    {
     "data": {
      "text/plain": [
       "Text(0, 0.5, 'Close price')"
      ]
     },
     "execution_count": 19,
     "metadata": {},
     "output_type": "execute_result"
    },
    {
     "data": {
      "image/png": "[encoded data removed]",
      "text/plain": [
       "<Figure size 1200x500 with 1 Axes>"
      ]
     },
     "metadata": {},
     "output_type": "display_data"
    }
   ],
   "source": [
    "plt.figure(figsize=(12, 5))\n",
    "plt.plot(df.Close)\n",
    "plt.title(ticker)\n",
    "plt.xlabel('Days')\n",
    "plt.ylabel('Close price')"
   ]
  },
  {
   "cell_type": "code",
   "execution_count": null,
   "id": "6e13baf0-b1e2-4c03-a522-5358de16f8c4",
   "metadata": {},
   "outputs": [],
   "source": []
  },
  {
   "cell_type": "markdown",
   "id": "00077e19-5b85-4af2-8817-ecc511a74f41",
   "metadata": {},
   "source": [
    "# 3. Feature Engineering"
   ]
  },
  {
   "cell_type": "code",
   "execution_count": 20,
   "id": "77ef9997-8fa2-46db-b7fa-31a72c85aa95",
   "metadata": {},
   "outputs": [],
   "source": [
    "# 10, 20, 30, 40, 50, 60, 70, 80, 90, 100\n",
    "\n",
    "# MA of 5 days ==> null null null null 30 40"
   ]
  },
  {
   "cell_type": "code",
   "execution_count": 21,
   "id": "fca4f085-0973-411e-a15d-d28e1bb0bffd",
   "metadata": {},
   "outputs": [
    {
     "name": "stdout",
     "output_type": "stream",
     "text": [
      "50.0\n"
     ]
    }
   ],
   "source": [
    "temp_df = [10, 20, 30, 40, 50, 60, 70, 80, 90, 100]\n",
    "print(sum(temp_df[2:7])/5)"
   ]
  },
  {
   "cell_type": "code",
   "execution_count": 22,
   "id": "df8498b9-0f50-431e-bd9f-c8a22aee32e1",
   "metadata": {},
   "outputs": [
    {
     "data": {
      "text/html": [
       "<div>\n",
       "<style scoped>\n",
       "    .dataframe tbody tr th:only-of-type {\n",
       "        vertical-align: middle;\n",
       "    }\n",
       "\n",
       "    .dataframe tbody tr th {\n",
       "        vertical-align: top;\n",
       "    }\n",
       "\n",
       "    .dataframe thead th {\n",
       "        text-align: right;\n",
       "    }\n",
       "</style>\n",
       "<table border=\"1\" class=\"dataframe\">\n",
       "  <thead>\n",
       "    <tr style=\"text-align: right;\">\n",
       "      <th></th>\n",
       "      <th>0</th>\n",
       "    </tr>\n",
       "  </thead>\n",
       "  <tbody>\n",
       "    <tr>\n",
       "      <th>0</th>\n",
       "      <td>10</td>\n",
       "    </tr>\n",
       "    <tr>\n",
       "      <th>1</th>\n",
       "      <td>20</td>\n",
       "    </tr>\n",
       "    <tr>\n",
       "      <th>2</th>\n",
       "      <td>30</td>\n",
       "    </tr>\n",
       "    <tr>\n",
       "      <th>3</th>\n",
       "      <td>40</td>\n",
       "    </tr>\n",
       "    <tr>\n",
       "      <th>4</th>\n",
       "      <td>50</td>\n",
       "    </tr>\n",
       "    <tr>\n",
       "      <th>5</th>\n",
       "      <td>60</td>\n",
       "    </tr>\n",
       "    <tr>\n",
       "      <th>6</th>\n",
       "      <td>70</td>\n",
       "    </tr>\n",
       "    <tr>\n",
       "      <th>7</th>\n",
       "      <td>80</td>\n",
       "    </tr>\n",
       "    <tr>\n",
       "      <th>8</th>\n",
       "      <td>90</td>\n",
       "    </tr>\n",
       "    <tr>\n",
       "      <th>9</th>\n",
       "      <td>100</td>\n",
       "    </tr>\n",
       "  </tbody>\n",
       "</table>\n",
       "</div>"
      ],
      "text/plain": [
       "     0\n",
       "0   10\n",
       "1   20\n",
       "2   30\n",
       "3   40\n",
       "4   50\n",
       "5   60\n",
       "6   70\n",
       "7   80\n",
       "8   90\n",
       "9  100"
      ]
     },
     "execution_count": 22,
     "metadata": {},
     "output_type": "execute_result"
    }
   ],
   "source": [
    "df1 = pd.DataFrame([10, 20, 30, 40, 50, 60, 70, 80, 90, 100])\n",
    "df1"
   ]
  },
  {
   "cell_type": "code",
   "execution_count": 23,
   "id": "6d071354-d194-4171-881d-bb9e566243b0",
   "metadata": {},
   "outputs": [
    {
     "data": {
      "text/html": [
       "<div>\n",
       "<style scoped>\n",
       "    .dataframe tbody tr th:only-of-type {\n",
       "        vertical-align: middle;\n",
       "    }\n",
       "\n",
       "    .dataframe tbody tr th {\n",
       "        vertical-align: top;\n",
       "    }\n",
       "\n",
       "    .dataframe thead th {\n",
       "        text-align: right;\n",
       "    }\n",
       "</style>\n",
       "<table border=\"1\" class=\"dataframe\">\n",
       "  <thead>\n",
       "    <tr style=\"text-align: right;\">\n",
       "      <th></th>\n",
       "      <th>0</th>\n",
       "      <th>MA_5</th>\n",
       "    </tr>\n",
       "  </thead>\n",
       "  <tbody>\n",
       "    <tr>\n",
       "      <th>0</th>\n",
       "      <td>10</td>\n",
       "      <td>NaN</td>\n",
       "    </tr>\n",
       "    <tr>\n",
       "      <th>1</th>\n",
       "      <td>20</td>\n",
       "      <td>NaN</td>\n",
       "    </tr>\n",
       "    <tr>\n",
       "      <th>2</th>\n",
       "      <td>30</td>\n",
       "      <td>NaN</td>\n",
       "    </tr>\n",
       "    <tr>\n",
       "      <th>3</th>\n",
       "      <td>40</td>\n",
       "      <td>NaN</td>\n",
       "    </tr>\n",
       "    <tr>\n",
       "      <th>4</th>\n",
       "      <td>50</td>\n",
       "      <td>30.0</td>\n",
       "    </tr>\n",
       "    <tr>\n",
       "      <th>5</th>\n",
       "      <td>60</td>\n",
       "      <td>40.0</td>\n",
       "    </tr>\n",
       "    <tr>\n",
       "      <th>6</th>\n",
       "      <td>70</td>\n",
       "      <td>50.0</td>\n",
       "    </tr>\n",
       "    <tr>\n",
       "      <th>7</th>\n",
       "      <td>80</td>\n",
       "      <td>60.0</td>\n",
       "    </tr>\n",
       "    <tr>\n",
       "      <th>8</th>\n",
       "      <td>90</td>\n",
       "      <td>70.0</td>\n",
       "    </tr>\n",
       "    <tr>\n",
       "      <th>9</th>\n",
       "      <td>100</td>\n",
       "      <td>80.0</td>\n",
       "    </tr>\n",
       "  </tbody>\n",
       "</table>\n",
       "</div>"
      ],
      "text/plain": [
       "     0  MA_5\n",
       "0   10   NaN\n",
       "1   20   NaN\n",
       "2   30   NaN\n",
       "3   40   NaN\n",
       "4   50  30.0\n",
       "5   60  40.0\n",
       "6   70  50.0\n",
       "7   80  60.0\n",
       "8   90  70.0\n",
       "9  100  80.0"
      ]
     },
     "execution_count": 23,
     "metadata": {},
     "output_type": "execute_result"
    }
   ],
   "source": [
    "df1['MA_5'] = df1.rolling(5).mean()\n",
    "df1"
   ]
  },
  {
   "cell_type": "code",
   "execution_count": null,
   "id": "52c3804c-8187-4935-9c2c-c53e96a78e69",
   "metadata": {},
   "outputs": [],
   "source": []
  },
  {
   "cell_type": "markdown",
   "id": "75fa071d-2fdd-4472-9920-32797380d758",
   "metadata": {},
   "source": [
    "### 100 days Moving Average"
   ]
  },
  {
   "cell_type": "code",
   "execution_count": 24,
   "id": "3bfca11c-c601-435a-bcb6-04a4ecb7e6f5",
   "metadata": {},
   "outputs": [
    {
     "data": {
      "text/html": [
       "<div>\n",
       "<style scoped>\n",
       "    .dataframe tbody tr th:only-of-type {\n",
       "        vertical-align: middle;\n",
       "    }\n",
       "\n",
       "    .dataframe tbody tr th {\n",
       "        vertical-align: top;\n",
       "    }\n",
       "\n",
       "    .dataframe thead th {\n",
       "        text-align: right;\n",
       "    }\n",
       "</style>\n",
       "<table border=\"1\" class=\"dataframe\">\n",
       "  <thead>\n",
       "    <tr style=\"text-align: right;\">\n",
       "      <th></th>\n",
       "      <th>Date</th>\n",
       "      <th>Open</th>\n",
       "      <th>High</th>\n",
       "      <th>Low</th>\n",
       "      <th>Close</th>\n",
       "      <th>Adj Close</th>\n",
       "      <th>Volume</th>\n",
       "      <th>MA_100</th>\n",
       "    </tr>\n",
       "  </thead>\n",
       "  <tbody>\n",
       "    <tr>\n",
       "      <th>0</th>\n",
       "      <td>2014-08-18</td>\n",
       "      <td>24.622499</td>\n",
       "      <td>24.842501</td>\n",
       "      <td>24.495001</td>\n",
       "      <td>24.790001</td>\n",
       "      <td>22.011221</td>\n",
       "      <td>190288000</td>\n",
       "      <td>NaN</td>\n",
       "    </tr>\n",
       "    <tr>\n",
       "      <th>1</th>\n",
       "      <td>2014-08-19</td>\n",
       "      <td>24.852501</td>\n",
       "      <td>25.170000</td>\n",
       "      <td>24.830000</td>\n",
       "      <td>25.132500</td>\n",
       "      <td>22.315331</td>\n",
       "      <td>277596000</td>\n",
       "      <td>NaN</td>\n",
       "    </tr>\n",
       "    <tr>\n",
       "      <th>2</th>\n",
       "      <td>2014-08-20</td>\n",
       "      <td>25.110001</td>\n",
       "      <td>25.272499</td>\n",
       "      <td>24.987499</td>\n",
       "      <td>25.142500</td>\n",
       "      <td>22.324209</td>\n",
       "      <td>210796000</td>\n",
       "      <td>NaN</td>\n",
       "    </tr>\n",
       "    <tr>\n",
       "      <th>3</th>\n",
       "      <td>2014-08-21</td>\n",
       "      <td>25.142500</td>\n",
       "      <td>25.235001</td>\n",
       "      <td>25.027500</td>\n",
       "      <td>25.145000</td>\n",
       "      <td>22.326424</td>\n",
       "      <td>133912000</td>\n",
       "      <td>NaN</td>\n",
       "    </tr>\n",
       "    <tr>\n",
       "      <th>4</th>\n",
       "      <td>2014-08-22</td>\n",
       "      <td>25.072500</td>\n",
       "      <td>25.367500</td>\n",
       "      <td>25.047501</td>\n",
       "      <td>25.330000</td>\n",
       "      <td>22.490688</td>\n",
       "      <td>176736000</td>\n",
       "      <td>NaN</td>\n",
       "    </tr>\n",
       "  </tbody>\n",
       "</table>\n",
       "</div>"
      ],
      "text/plain": [
       "        Date       Open       High        Low      Close  Adj Close  \\\n",
       "0 2014-08-18  24.622499  24.842501  24.495001  24.790001  22.011221   \n",
       "1 2014-08-19  24.852501  25.170000  24.830000  25.132500  22.315331   \n",
       "2 2014-08-20  25.110001  25.272499  24.987499  25.142500  22.324209   \n",
       "3 2014-08-21  25.142500  25.235001  25.027500  25.145000  22.326424   \n",
       "4 2014-08-22  25.072500  25.367500  25.047501  25.330000  22.490688   \n",
       "\n",
       "      Volume  MA_100  \n",
       "0  190288000     NaN  \n",
       "1  277596000     NaN  \n",
       "2  210796000     NaN  \n",
       "3  133912000     NaN  \n",
       "4  176736000     NaN  "
      ]
     },
     "execution_count": 24,
     "metadata": {},
     "output_type": "execute_result"
    }
   ],
   "source": [
    "df['MA_100'] = df.Close.rolling(100).mean()\n",
    "df.head()"
   ]
  },
  {
   "cell_type": "code",
   "execution_count": 25,
   "id": "3f74d9ec-253d-494b-9d48-c3dd50b05dbf",
   "metadata": {},
   "outputs": [
    {
     "data": {
      "text/html": [
       "<div>\n",
       "<style scoped>\n",
       "    .dataframe tbody tr th:only-of-type {\n",
       "        vertical-align: middle;\n",
       "    }\n",
       "\n",
       "    .dataframe tbody tr th {\n",
       "        vertical-align: top;\n",
       "    }\n",
       "\n",
       "    .dataframe thead th {\n",
       "        text-align: right;\n",
       "    }\n",
       "</style>\n",
       "<table border=\"1\" class=\"dataframe\">\n",
       "  <thead>\n",
       "    <tr style=\"text-align: right;\">\n",
       "      <th></th>\n",
       "      <th>Date</th>\n",
       "      <th>Open</th>\n",
       "      <th>High</th>\n",
       "      <th>Low</th>\n",
       "      <th>Close</th>\n",
       "      <th>Adj Close</th>\n",
       "      <th>Volume</th>\n",
       "      <th>MA_100</th>\n",
       "    </tr>\n",
       "  </thead>\n",
       "  <tbody>\n",
       "    <tr>\n",
       "      <th>0</th>\n",
       "      <td>2014-08-18</td>\n",
       "      <td>24.622499</td>\n",
       "      <td>24.842501</td>\n",
       "      <td>24.495001</td>\n",
       "      <td>24.790001</td>\n",
       "      <td>22.011221</td>\n",
       "      <td>190288000</td>\n",
       "      <td>NaN</td>\n",
       "    </tr>\n",
       "    <tr>\n",
       "      <th>1</th>\n",
       "      <td>2014-08-19</td>\n",
       "      <td>24.852501</td>\n",
       "      <td>25.170000</td>\n",
       "      <td>24.830000</td>\n",
       "      <td>25.132500</td>\n",
       "      <td>22.315331</td>\n",
       "      <td>277596000</td>\n",
       "      <td>NaN</td>\n",
       "    </tr>\n",
       "    <tr>\n",
       "      <th>2</th>\n",
       "      <td>2014-08-20</td>\n",
       "      <td>25.110001</td>\n",
       "      <td>25.272499</td>\n",
       "      <td>24.987499</td>\n",
       "      <td>25.142500</td>\n",
       "      <td>22.324209</td>\n",
       "      <td>210796000</td>\n",
       "      <td>NaN</td>\n",
       "    </tr>\n",
       "    <tr>\n",
       "      <th>3</th>\n",
       "      <td>2014-08-21</td>\n",
       "      <td>25.142500</td>\n",
       "      <td>25.235001</td>\n",
       "      <td>25.027500</td>\n",
       "      <td>25.145000</td>\n",
       "      <td>22.326424</td>\n",
       "      <td>133912000</td>\n",
       "      <td>NaN</td>\n",
       "    </tr>\n",
       "    <tr>\n",
       "      <th>4</th>\n",
       "      <td>2014-08-22</td>\n",
       "      <td>25.072500</td>\n",
       "      <td>25.367500</td>\n",
       "      <td>25.047501</td>\n",
       "      <td>25.330000</td>\n",
       "      <td>22.490688</td>\n",
       "      <td>176736000</td>\n",
       "      <td>NaN</td>\n",
       "    </tr>\n",
       "    <tr>\n",
       "      <th>...</th>\n",
       "      <td>...</td>\n",
       "      <td>...</td>\n",
       "      <td>...</td>\n",
       "      <td>...</td>\n",
       "      <td>...</td>\n",
       "      <td>...</td>\n",
       "      <td>...</td>\n",
       "      <td>...</td>\n",
       "    </tr>\n",
       "    <tr>\n",
       "      <th>98</th>\n",
       "      <td>2015-01-07</td>\n",
       "      <td>26.799999</td>\n",
       "      <td>27.049999</td>\n",
       "      <td>26.674999</td>\n",
       "      <td>26.937500</td>\n",
       "      <td>24.021715</td>\n",
       "      <td>160423600</td>\n",
       "      <td>NaN</td>\n",
       "    </tr>\n",
       "    <tr>\n",
       "      <th>99</th>\n",
       "      <td>2015-01-08</td>\n",
       "      <td>27.307501</td>\n",
       "      <td>28.037500</td>\n",
       "      <td>27.174999</td>\n",
       "      <td>27.972500</td>\n",
       "      <td>24.944681</td>\n",
       "      <td>237458000</td>\n",
       "      <td>26.572575</td>\n",
       "    </tr>\n",
       "    <tr>\n",
       "      <th>100</th>\n",
       "      <td>2015-01-09</td>\n",
       "      <td>28.167500</td>\n",
       "      <td>28.312500</td>\n",
       "      <td>27.552500</td>\n",
       "      <td>28.002501</td>\n",
       "      <td>24.971430</td>\n",
       "      <td>214798000</td>\n",
       "      <td>26.604700</td>\n",
       "    </tr>\n",
       "    <tr>\n",
       "      <th>101</th>\n",
       "      <td>2015-01-12</td>\n",
       "      <td>28.150000</td>\n",
       "      <td>28.157499</td>\n",
       "      <td>27.200001</td>\n",
       "      <td>27.312500</td>\n",
       "      <td>24.356119</td>\n",
       "      <td>198603200</td>\n",
       "      <td>26.626500</td>\n",
       "    </tr>\n",
       "    <tr>\n",
       "      <th>102</th>\n",
       "      <td>2015-01-13</td>\n",
       "      <td>27.857500</td>\n",
       "      <td>28.200001</td>\n",
       "      <td>27.227501</td>\n",
       "      <td>27.555000</td>\n",
       "      <td>24.572374</td>\n",
       "      <td>268367600</td>\n",
       "      <td>26.650625</td>\n",
       "    </tr>\n",
       "  </tbody>\n",
       "</table>\n",
       "<p>103 rows × 8 columns</p>\n",
       "</div>"
      ],
      "text/plain": [
       "          Date       Open       High        Low      Close  Adj Close  \\\n",
       "0   2014-08-18  24.622499  24.842501  24.495001  24.790001  22.011221   \n",
       "1   2014-08-19  24.852501  25.170000  24.830000  25.132500  22.315331   \n",
       "2   2014-08-20  25.110001  25.272499  24.987499  25.142500  22.324209   \n",
       "3   2014-08-21  25.142500  25.235001  25.027500  25.145000  22.326424   \n",
       "4   2014-08-22  25.072500  25.367500  25.047501  25.330000  22.490688   \n",
       "..         ...        ...        ...        ...        ...        ...   \n",
       "98  2015-01-07  26.799999  27.049999  26.674999  26.937500  24.021715   \n",
       "99  2015-01-08  27.307501  28.037500  27.174999  27.972500  24.944681   \n",
       "100 2015-01-09  28.167500  28.312500  27.552500  28.002501  24.971430   \n",
       "101 2015-01-12  28.150000  28.157499  27.200001  27.312500  24.356119   \n",
       "102 2015-01-13  27.857500  28.200001  27.227501  27.555000  24.572374   \n",
       "\n",
       "        Volume     MA_100  \n",
       "0    190288000        NaN  \n",
       "1    277596000        NaN  \n",
       "2    210796000        NaN  \n",
       "3    133912000        NaN  \n",
       "4    176736000        NaN  \n",
       "..         ...        ...  \n",
       "98   160423600        NaN  \n",
       "99   237458000  26.572575  \n",
       "100  214798000  26.604700  \n",
       "101  198603200  26.626500  \n",
       "102  268367600  26.650625  \n",
       "\n",
       "[103 rows x 8 columns]"
      ]
     },
     "execution_count": 25,
     "metadata": {},
     "output_type": "execute_result"
    }
   ],
   "source": [
    "df.head(103)"
   ]
  },
  {
   "cell_type": "code",
   "execution_count": 26,
   "id": "7b622af7-7b9a-4c85-b0e3-fea67f8198ab",
   "metadata": {},
   "outputs": [
    {
     "data": {
      "text/plain": [
       "Text(0, 0.5, 'Price')"
      ]
     },
     "execution_count": 26,
     "metadata": {},
     "output_type": "execute_result"
    },
    {
     "data": {
      "image/png": "[encoded data removed]",
      "text/plain": [
       "<Figure size 1200x500 with 1 Axes>"
      ]
     },
     "metadata": {},
     "output_type": "display_data"
    }
   ],
   "source": [
    "plt.figure(figsize=(12, 5))\n",
    "plt.plot(df.Close)\n",
    "plt.plot(df['MA_100'], 'r')\n",
    "plt.title('100 Days Moving Average')\n",
    "plt.xlabel('Days')\n",
    "plt.ylabel('Price')"
   ]
  },
  {
   "cell_type": "markdown",
   "id": "50ec8881-1b21-4649-8363-176e7f894784",
   "metadata": {},
   "source": [
    "### 200 days Moving Average"
   ]
  },
  {
   "cell_type": "code",
   "execution_count": 27,
   "id": "9e9958f4-ab6a-4bd6-b449-82b3d4bb0a17",
   "metadata": {},
   "outputs": [
    {
     "data": {
      "text/html": [
       "<div>\n",
       "<style scoped>\n",
       "    .dataframe tbody tr th:only-of-type {\n",
       "        vertical-align: middle;\n",
       "    }\n",
       "\n",
       "    .dataframe tbody tr th {\n",
       "        vertical-align: top;\n",
       "    }\n",
       "\n",
       "    .dataframe thead th {\n",
       "        text-align: right;\n",
       "    }\n",
       "</style>\n",
       "<table border=\"1\" class=\"dataframe\">\n",
       "  <thead>\n",
       "    <tr style=\"text-align: right;\">\n",
       "      <th></th>\n",
       "      <th>Date</th>\n",
       "      <th>Open</th>\n",
       "      <th>High</th>\n",
       "      <th>Low</th>\n",
       "      <th>Close</th>\n",
       "      <th>Adj Close</th>\n",
       "      <th>Volume</th>\n",
       "      <th>MA_100</th>\n",
       "      <th>MA_200</th>\n",
       "    </tr>\n",
       "  </thead>\n",
       "  <tbody>\n",
       "    <tr>\n",
       "      <th>0</th>\n",
       "      <td>2014-08-18</td>\n",
       "      <td>24.622499</td>\n",
       "      <td>24.842501</td>\n",
       "      <td>24.495001</td>\n",
       "      <td>24.790001</td>\n",
       "      <td>22.011221</td>\n",
       "      <td>190288000</td>\n",
       "      <td>NaN</td>\n",
       "      <td>NaN</td>\n",
       "    </tr>\n",
       "    <tr>\n",
       "      <th>1</th>\n",
       "      <td>2014-08-19</td>\n",
       "      <td>24.852501</td>\n",
       "      <td>25.170000</td>\n",
       "      <td>24.830000</td>\n",
       "      <td>25.132500</td>\n",
       "      <td>22.315331</td>\n",
       "      <td>277596000</td>\n",
       "      <td>NaN</td>\n",
       "      <td>NaN</td>\n",
       "    </tr>\n",
       "    <tr>\n",
       "      <th>2</th>\n",
       "      <td>2014-08-20</td>\n",
       "      <td>25.110001</td>\n",
       "      <td>25.272499</td>\n",
       "      <td>24.987499</td>\n",
       "      <td>25.142500</td>\n",
       "      <td>22.324209</td>\n",
       "      <td>210796000</td>\n",
       "      <td>NaN</td>\n",
       "      <td>NaN</td>\n",
       "    </tr>\n",
       "    <tr>\n",
       "      <th>3</th>\n",
       "      <td>2014-08-21</td>\n",
       "      <td>25.142500</td>\n",
       "      <td>25.235001</td>\n",
       "      <td>25.027500</td>\n",
       "      <td>25.145000</td>\n",
       "      <td>22.326424</td>\n",
       "      <td>133912000</td>\n",
       "      <td>NaN</td>\n",
       "      <td>NaN</td>\n",
       "    </tr>\n",
       "    <tr>\n",
       "      <th>4</th>\n",
       "      <td>2014-08-22</td>\n",
       "      <td>25.072500</td>\n",
       "      <td>25.367500</td>\n",
       "      <td>25.047501</td>\n",
       "      <td>25.330000</td>\n",
       "      <td>22.490688</td>\n",
       "      <td>176736000</td>\n",
       "      <td>NaN</td>\n",
       "      <td>NaN</td>\n",
       "    </tr>\n",
       "    <tr>\n",
       "      <th>...</th>\n",
       "      <td>...</td>\n",
       "      <td>...</td>\n",
       "      <td>...</td>\n",
       "      <td>...</td>\n",
       "      <td>...</td>\n",
       "      <td>...</td>\n",
       "      <td>...</td>\n",
       "      <td>...</td>\n",
       "      <td>...</td>\n",
       "    </tr>\n",
       "    <tr>\n",
       "      <th>198</th>\n",
       "      <td>2015-06-02</td>\n",
       "      <td>32.465000</td>\n",
       "      <td>32.665001</td>\n",
       "      <td>32.330002</td>\n",
       "      <td>32.490002</td>\n",
       "      <td>29.209040</td>\n",
       "      <td>134670400</td>\n",
       "      <td>31.116650</td>\n",
       "      <td>NaN</td>\n",
       "    </tr>\n",
       "    <tr>\n",
       "      <th>199</th>\n",
       "      <td>2015-06-03</td>\n",
       "      <td>32.665001</td>\n",
       "      <td>32.735001</td>\n",
       "      <td>32.474998</td>\n",
       "      <td>32.529999</td>\n",
       "      <td>29.245008</td>\n",
       "      <td>123934000</td>\n",
       "      <td>31.162225</td>\n",
       "      <td>28.867400</td>\n",
       "    </tr>\n",
       "    <tr>\n",
       "      <th>200</th>\n",
       "      <td>2015-06-04</td>\n",
       "      <td>32.395000</td>\n",
       "      <td>32.645000</td>\n",
       "      <td>32.227501</td>\n",
       "      <td>32.340000</td>\n",
       "      <td>29.074192</td>\n",
       "      <td>153800400</td>\n",
       "      <td>31.205600</td>\n",
       "      <td>28.905150</td>\n",
       "    </tr>\n",
       "    <tr>\n",
       "      <th>201</th>\n",
       "      <td>2015-06-05</td>\n",
       "      <td>32.375000</td>\n",
       "      <td>32.422501</td>\n",
       "      <td>32.090000</td>\n",
       "      <td>32.162498</td>\n",
       "      <td>28.914618</td>\n",
       "      <td>142507200</td>\n",
       "      <td>31.254100</td>\n",
       "      <td>28.940300</td>\n",
       "    </tr>\n",
       "    <tr>\n",
       "      <th>202</th>\n",
       "      <td>2015-06-08</td>\n",
       "      <td>32.224998</td>\n",
       "      <td>32.302502</td>\n",
       "      <td>31.707500</td>\n",
       "      <td>31.950001</td>\n",
       "      <td>28.723576</td>\n",
       "      <td>210699200</td>\n",
       "      <td>31.298050</td>\n",
       "      <td>28.974337</td>\n",
       "    </tr>\n",
       "  </tbody>\n",
       "</table>\n",
       "<p>203 rows × 9 columns</p>\n",
       "</div>"
      ],
      "text/plain": [
       "          Date       Open       High        Low      Close  Adj Close  \\\n",
       "0   2014-08-18  24.622499  24.842501  24.495001  24.790001  22.011221   \n",
       "1   2014-08-19  24.852501  25.170000  24.830000  25.132500  22.315331   \n",
       "2   2014-08-20  25.110001  25.272499  24.987499  25.142500  22.324209   \n",
       "3   2014-08-21  25.142500  25.235001  25.027500  25.145000  22.326424   \n",
       "4   2014-08-22  25.072500  25.367500  25.047501  25.330000  22.490688   \n",
       "..         ...        ...        ...        ...        ...        ...   \n",
       "198 2015-06-02  32.465000  32.665001  32.330002  32.490002  29.209040   \n",
       "199 2015-06-03  32.665001  32.735001  32.474998  32.529999  29.245008   \n",
       "200 2015-06-04  32.395000  32.645000  32.227501  32.340000  29.074192   \n",
       "201 2015-06-05  32.375000  32.422501  32.090000  32.162498  28.914618   \n",
       "202 2015-06-08  32.224998  32.302502  31.707500  31.950001  28.723576   \n",
       "\n",
       "        Volume     MA_100     MA_200  \n",
       "0    190288000        NaN        NaN  \n",
       "1    277596000        NaN        NaN  \n",
       "2    210796000        NaN        NaN  \n",
       "3    133912000        NaN        NaN  \n",
       "4    176736000        NaN        NaN  \n",
       "..         ...        ...        ...  \n",
       "198  134670400  31.116650        NaN  \n",
       "199  123934000  31.162225  28.867400  \n",
       "200  153800400  31.205600  28.905150  \n",
       "201  142507200  31.254100  28.940300  \n",
       "202  210699200  31.298050  28.974337  \n",
       "\n",
       "[203 rows x 9 columns]"
      ]
     },
     "execution_count": 27,
     "metadata": {},
     "output_type": "execute_result"
    }
   ],
   "source": [
    "df['MA_200'] = df.Close.rolling(200).mean()\n",
    "df.head(203)"
   ]
  },
  {
   "cell_type": "code",
   "execution_count": 28,
   "id": "999d7c81-3180-4099-8e43-0d2a4ead7afd",
   "metadata": {},
   "outputs": [
    {
     "data": {
      "text/plain": [
       "Text(0, 0.5, 'Price')"
      ]
     },
     "execution_count": 28,
     "metadata": {},
     "output_type": "execute_result"
    },
    {
     "data": {
      "image/png": "[encoded data removed]",
      "text/plain": [
       "<Figure size 1200x500 with 1 Axes>"
      ]
     },
     "metadata": {},
     "output_type": "display_data"
    }
   ],
   "source": [
    "plt.figure(figsize=(12, 5))\n",
    "plt.plot(df.Close)\n",
    "plt.plot(df['MA_100'], 'r')\n",
    "plt.plot(df['MA_200'], 'g')\n",
    "plt.title('200 Days Moving Average')\n",
    "plt.xlabel('Days')\n",
    "plt.ylabel('Price')"
   ]
  },
  {
   "cell_type": "code",
   "execution_count": 29,
   "id": "1d108827-ffb3-428f-9433-6820d73a085f",
   "metadata": {},
   "outputs": [
    {
     "data": {
      "text/html": [
       "<div>\n",
       "<style scoped>\n",
       "    .dataframe tbody tr th:only-of-type {\n",
       "        vertical-align: middle;\n",
       "    }\n",
       "\n",
       "    .dataframe tbody tr th {\n",
       "        vertical-align: top;\n",
       "    }\n",
       "\n",
       "    .dataframe thead th {\n",
       "        text-align: right;\n",
       "    }\n",
       "</style>\n",
       "<table border=\"1\" class=\"dataframe\">\n",
       "  <thead>\n",
       "    <tr style=\"text-align: right;\">\n",
       "      <th></th>\n",
       "      <th>Date</th>\n",
       "      <th>Open</th>\n",
       "      <th>High</th>\n",
       "      <th>Low</th>\n",
       "      <th>Close</th>\n",
       "      <th>Adj Close</th>\n",
       "      <th>Volume</th>\n",
       "      <th>MA_100</th>\n",
       "      <th>MA_200</th>\n",
       "    </tr>\n",
       "  </thead>\n",
       "  <tbody>\n",
       "    <tr>\n",
       "      <th>0</th>\n",
       "      <td>2014-08-18</td>\n",
       "      <td>24.622499</td>\n",
       "      <td>24.842501</td>\n",
       "      <td>24.495001</td>\n",
       "      <td>24.790001</td>\n",
       "      <td>22.011221</td>\n",
       "      <td>190288000</td>\n",
       "      <td>NaN</td>\n",
       "      <td>NaN</td>\n",
       "    </tr>\n",
       "    <tr>\n",
       "      <th>1</th>\n",
       "      <td>2014-08-19</td>\n",
       "      <td>24.852501</td>\n",
       "      <td>25.170000</td>\n",
       "      <td>24.830000</td>\n",
       "      <td>25.132500</td>\n",
       "      <td>22.315331</td>\n",
       "      <td>277596000</td>\n",
       "      <td>NaN</td>\n",
       "      <td>NaN</td>\n",
       "    </tr>\n",
       "    <tr>\n",
       "      <th>2</th>\n",
       "      <td>2014-08-20</td>\n",
       "      <td>25.110001</td>\n",
       "      <td>25.272499</td>\n",
       "      <td>24.987499</td>\n",
       "      <td>25.142500</td>\n",
       "      <td>22.324209</td>\n",
       "      <td>210796000</td>\n",
       "      <td>NaN</td>\n",
       "      <td>NaN</td>\n",
       "    </tr>\n",
       "    <tr>\n",
       "      <th>3</th>\n",
       "      <td>2014-08-21</td>\n",
       "      <td>25.142500</td>\n",
       "      <td>25.235001</td>\n",
       "      <td>25.027500</td>\n",
       "      <td>25.145000</td>\n",
       "      <td>22.326424</td>\n",
       "      <td>133912000</td>\n",
       "      <td>NaN</td>\n",
       "      <td>NaN</td>\n",
       "    </tr>\n",
       "    <tr>\n",
       "      <th>4</th>\n",
       "      <td>2014-08-22</td>\n",
       "      <td>25.072500</td>\n",
       "      <td>25.367500</td>\n",
       "      <td>25.047501</td>\n",
       "      <td>25.330000</td>\n",
       "      <td>22.490688</td>\n",
       "      <td>176736000</td>\n",
       "      <td>NaN</td>\n",
       "      <td>NaN</td>\n",
       "    </tr>\n",
       "    <tr>\n",
       "      <th>...</th>\n",
       "      <td>...</td>\n",
       "      <td>...</td>\n",
       "      <td>...</td>\n",
       "      <td>...</td>\n",
       "      <td>...</td>\n",
       "      <td>...</td>\n",
       "      <td>...</td>\n",
       "      <td>...</td>\n",
       "      <td>...</td>\n",
       "    </tr>\n",
       "    <tr>\n",
       "      <th>2512</th>\n",
       "      <td>2024-08-12</td>\n",
       "      <td>216.070007</td>\n",
       "      <td>219.509995</td>\n",
       "      <td>215.600006</td>\n",
       "      <td>217.529999</td>\n",
       "      <td>217.529999</td>\n",
       "      <td>38028100</td>\n",
       "      <td>196.0905</td>\n",
       "      <td>190.64970</td>\n",
       "    </tr>\n",
       "    <tr>\n",
       "      <th>2513</th>\n",
       "      <td>2024-08-13</td>\n",
       "      <td>219.009995</td>\n",
       "      <td>221.889999</td>\n",
       "      <td>219.009995</td>\n",
       "      <td>221.270004</td>\n",
       "      <td>221.270004</td>\n",
       "      <td>44155300</td>\n",
       "      <td>196.5165</td>\n",
       "      <td>190.90055</td>\n",
       "    </tr>\n",
       "    <tr>\n",
       "      <th>2514</th>\n",
       "      <td>2024-08-14</td>\n",
       "      <td>220.570007</td>\n",
       "      <td>223.029999</td>\n",
       "      <td>219.699997</td>\n",
       "      <td>221.720001</td>\n",
       "      <td>221.720001</td>\n",
       "      <td>41960600</td>\n",
       "      <td>197.0200</td>\n",
       "      <td>191.17470</td>\n",
       "    </tr>\n",
       "    <tr>\n",
       "      <th>2515</th>\n",
       "      <td>2024-08-15</td>\n",
       "      <td>224.600006</td>\n",
       "      <td>225.350006</td>\n",
       "      <td>222.759995</td>\n",
       "      <td>224.720001</td>\n",
       "      <td>224.720001</td>\n",
       "      <td>46414000</td>\n",
       "      <td>197.5444</td>\n",
       "      <td>191.45720</td>\n",
       "    </tr>\n",
       "    <tr>\n",
       "      <th>2516</th>\n",
       "      <td>2024-08-16</td>\n",
       "      <td>223.919998</td>\n",
       "      <td>226.830002</td>\n",
       "      <td>223.649994</td>\n",
       "      <td>226.050003</td>\n",
       "      <td>226.050003</td>\n",
       "      <td>44289900</td>\n",
       "      <td>198.0964</td>\n",
       "      <td>191.73600</td>\n",
       "    </tr>\n",
       "  </tbody>\n",
       "</table>\n",
       "<p>2517 rows × 9 columns</p>\n",
       "</div>"
      ],
      "text/plain": [
       "           Date        Open        High         Low       Close   Adj Close  \\\n",
       "0    2014-08-18   24.622499   24.842501   24.495001   24.790001   22.011221   \n",
       "1    2014-08-19   24.852501   25.170000   24.830000   25.132500   22.315331   \n",
       "2    2014-08-20   25.110001   25.272499   24.987499   25.142500   22.324209   \n",
       "3    2014-08-21   25.142500   25.235001   25.027500   25.145000   22.326424   \n",
       "4    2014-08-22   25.072500   25.367500   25.047501   25.330000   22.490688   \n",
       "...         ...         ...         ...         ...         ...         ...   \n",
       "2512 2024-08-12  216.070007  219.509995  215.600006  217.529999  217.529999   \n",
       "2513 2024-08-13  219.009995  221.889999  219.009995  221.270004  221.270004   \n",
       "2514 2024-08-14  220.570007  223.029999  219.699997  221.720001  221.720001   \n",
       "2515 2024-08-15  224.600006  225.350006  222.759995  224.720001  224.720001   \n",
       "2516 2024-08-16  223.919998  226.830002  223.649994  226.050003  226.050003   \n",
       "\n",
       "         Volume    MA_100     MA_200  \n",
       "0     190288000       NaN        NaN  \n",
       "1     277596000       NaN        NaN  \n",
       "2     210796000       NaN        NaN  \n",
       "3     133912000       NaN        NaN  \n",
       "4     176736000       NaN        NaN  \n",
       "...         ...       ...        ...  \n",
       "2512   38028100  196.0905  190.64970  \n",
       "2513   44155300  196.5165  190.90055  \n",
       "2514   41960600  197.0200  191.17470  \n",
       "2515   46414000  197.5444  191.45720  \n",
       "2516   44289900  198.0964  191.73600  \n",
       "\n",
       "[2517 rows x 9 columns]"
      ]
     },
     "execution_count": 29,
     "metadata": {},
     "output_type": "execute_result"
    }
   ],
   "source": [
    "df"
   ]
  },
  {
   "cell_type": "code",
   "execution_count": null,
   "id": "072d8996-8dcd-4a3e-ba44-c7a248ac6a45",
   "metadata": {},
   "outputs": [],
   "source": []
  },
  {
   "cell_type": "markdown",
   "id": "6817580d-cd5b-4658-9da3-29d48e5f8897",
   "metadata": {},
   "source": [
    "### Calculating % changed in each trading session"
   ]
  },
  {
   "cell_type": "code",
   "execution_count": 30,
   "id": "e927d538-dabc-4f49-a8d6-74856b6804e9",
   "metadata": {},
   "outputs": [
    {
     "data": {
      "text/html": [
       "<div>\n",
       "<style scoped>\n",
       "    .dataframe tbody tr th:only-of-type {\n",
       "        vertical-align: middle;\n",
       "    }\n",
       "\n",
       "    .dataframe tbody tr th {\n",
       "        vertical-align: top;\n",
       "    }\n",
       "\n",
       "    .dataframe thead th {\n",
       "        text-align: right;\n",
       "    }\n",
       "</style>\n",
       "<table border=\"1\" class=\"dataframe\">\n",
       "  <thead>\n",
       "    <tr style=\"text-align: right;\">\n",
       "      <th></th>\n",
       "      <th>Close</th>\n",
       "      <th>Percentage Chaged</th>\n",
       "    </tr>\n",
       "  </thead>\n",
       "  <tbody>\n",
       "    <tr>\n",
       "      <th>0</th>\n",
       "      <td>24.790001</td>\n",
       "      <td>NaN</td>\n",
       "    </tr>\n",
       "    <tr>\n",
       "      <th>1</th>\n",
       "      <td>25.132500</td>\n",
       "      <td>0.013816</td>\n",
       "    </tr>\n",
       "    <tr>\n",
       "      <th>2</th>\n",
       "      <td>25.142500</td>\n",
       "      <td>0.000398</td>\n",
       "    </tr>\n",
       "    <tr>\n",
       "      <th>3</th>\n",
       "      <td>25.145000</td>\n",
       "      <td>0.000099</td>\n",
       "    </tr>\n",
       "    <tr>\n",
       "      <th>4</th>\n",
       "      <td>25.330000</td>\n",
       "      <td>0.007357</td>\n",
       "    </tr>\n",
       "    <tr>\n",
       "      <th>...</th>\n",
       "      <td>...</td>\n",
       "      <td>...</td>\n",
       "    </tr>\n",
       "    <tr>\n",
       "      <th>2512</th>\n",
       "      <td>217.529999</td>\n",
       "      <td>0.005966</td>\n",
       "    </tr>\n",
       "    <tr>\n",
       "      <th>2513</th>\n",
       "      <td>221.270004</td>\n",
       "      <td>0.017193</td>\n",
       "    </tr>\n",
       "    <tr>\n",
       "      <th>2514</th>\n",
       "      <td>221.720001</td>\n",
       "      <td>0.002034</td>\n",
       "    </tr>\n",
       "    <tr>\n",
       "      <th>2515</th>\n",
       "      <td>224.720001</td>\n",
       "      <td>0.013531</td>\n",
       "    </tr>\n",
       "    <tr>\n",
       "      <th>2516</th>\n",
       "      <td>226.050003</td>\n",
       "      <td>0.005918</td>\n",
       "    </tr>\n",
       "  </tbody>\n",
       "</table>\n",
       "<p>2517 rows × 2 columns</p>\n",
       "</div>"
      ],
      "text/plain": [
       "           Close  Percentage Chaged\n",
       "0      24.790001                NaN\n",
       "1      25.132500           0.013816\n",
       "2      25.142500           0.000398\n",
       "3      25.145000           0.000099\n",
       "4      25.330000           0.007357\n",
       "...          ...                ...\n",
       "2512  217.529999           0.005966\n",
       "2513  221.270004           0.017193\n",
       "2514  221.720001           0.002034\n",
       "2515  224.720001           0.013531\n",
       "2516  226.050003           0.005918\n",
       "\n",
       "[2517 rows x 2 columns]"
      ]
     },
     "execution_count": 30,
     "metadata": {},
     "output_type": "execute_result"
    }
   ],
   "source": [
    "df['Percentage Chaged'] = df.Close.pct_change()\n",
    "df[['Close', 'Percentage Chaged']]"
   ]
  },
  {
   "cell_type": "code",
   "execution_count": 31,
   "id": "a286fdc8-dafc-4eaa-93f5-353b100c6bbd",
   "metadata": {},
   "outputs": [
    {
     "data": {
      "text/plain": [
       "[<matplotlib.lines.Line2D at 0x12f1a4320>]"
      ]
     },
     "execution_count": 31,
     "metadata": {},
     "output_type": "execute_result"
    },
    {
     "data": {
      "image/png": "[encoded data removed]",
      "text/plain": [
       "<Figure size 1200x500 with 1 Axes>"
      ]
     },
     "metadata": {},
     "output_type": "display_data"
    }
   ],
   "source": [
    "plt.figure(figsize=(12, 5))\n",
    "plt.plot(df['Percentage Chaged'])"
   ]
  },
  {
   "cell_type": "code",
   "execution_count": null,
   "id": "18d0be41-f9be-4b50-86be-63174255542b",
   "metadata": {},
   "outputs": [],
   "source": []
  },
  {
   "cell_type": "markdown",
   "id": "6cc4020b-1c81-47d6-9b3b-a005d5766c8b",
   "metadata": {},
   "source": [
    "# 4. Data Preprocessing"
   ]
  },
  {
   "cell_type": "code",
   "execution_count": 32,
   "id": "93209280-446b-497a-a559-0690180ea4a2",
   "metadata": {},
   "outputs": [
    {
     "data": {
      "text/plain": [
       "(2517, 10)"
      ]
     },
     "execution_count": 32,
     "metadata": {},
     "output_type": "execute_result"
    }
   ],
   "source": [
    "df.shape"
   ]
  },
  {
   "cell_type": "code",
   "execution_count": 33,
   "id": "689ebd7d-14dc-4b5d-a4dd-e66f740a72e5",
   "metadata": {},
   "outputs": [
    {
     "name": "stdout",
     "output_type": "stream",
     "text": [
      "           Close\n",
      "0      24.790001\n",
      "1      25.132500\n",
      "2      25.142500\n",
      "3      25.145000\n",
      "4      25.330000\n",
      "...          ...\n",
      "1756  146.089996\n",
      "1757  145.600006\n",
      "1758  145.860001\n",
      "1759  148.889999\n",
      "1760  149.100006\n",
      "\n",
      "[1761 rows x 1 columns]\n",
      "           Close\n",
      "1761  151.119995\n",
      "1762  150.190002\n",
      "1763  146.360001\n",
      "1764  146.699997\n",
      "1765  148.190002\n",
      "...          ...\n",
      "2512  217.529999\n",
      "2513  221.270004\n",
      "2514  221.720001\n",
      "2515  224.720001\n",
      "2516  226.050003\n",
      "\n",
      "[756 rows x 1 columns]\n"
     ]
    }
   ],
   "source": [
    "# Splitting data into Training & Testing datasets\n",
    "data_training = pd.DataFrame(df.Close[0:int(len(df)*0.7)])\n",
    "data_testing = pd.DataFrame(df.Close[int(len(df)*0.7): int(len(df))])\n",
    "\n",
    "print(data_training)\n",
    "print(data_testing)"
   ]
  },
  {
   "cell_type": "code",
   "execution_count": 34,
   "id": "22255435-4450-4f22-bd39-0375c987237e",
   "metadata": {},
   "outputs": [
    {
     "data": {
      "text/plain": [
       "pandas.core.frame.DataFrame"
      ]
     },
     "execution_count": 34,
     "metadata": {},
     "output_type": "execute_result"
    }
   ],
   "source": [
    "type(data_training)"
   ]
  },
  {
   "cell_type": "code",
   "execution_count": 35,
   "id": "f76664ed-fc72-4075-8ae8-14d01cae639e",
   "metadata": {},
   "outputs": [
    {
     "data": {
      "text/html": [
       "<div>\n",
       "<style scoped>\n",
       "    .dataframe tbody tr th:only-of-type {\n",
       "        vertical-align: middle;\n",
       "    }\n",
       "\n",
       "    .dataframe tbody tr th {\n",
       "        vertical-align: top;\n",
       "    }\n",
       "\n",
       "    .dataframe thead th {\n",
       "        text-align: right;\n",
       "    }\n",
       "</style>\n",
       "<table border=\"1\" class=\"dataframe\">\n",
       "  <thead>\n",
       "    <tr style=\"text-align: right;\">\n",
       "      <th></th>\n",
       "      <th>Close</th>\n",
       "    </tr>\n",
       "  </thead>\n",
       "  <tbody>\n",
       "    <tr>\n",
       "      <th>0</th>\n",
       "      <td>24.790001</td>\n",
       "    </tr>\n",
       "    <tr>\n",
       "      <th>1</th>\n",
       "      <td>25.132500</td>\n",
       "    </tr>\n",
       "    <tr>\n",
       "      <th>2</th>\n",
       "      <td>25.142500</td>\n",
       "    </tr>\n",
       "    <tr>\n",
       "      <th>3</th>\n",
       "      <td>25.145000</td>\n",
       "    </tr>\n",
       "    <tr>\n",
       "      <th>4</th>\n",
       "      <td>25.330000</td>\n",
       "    </tr>\n",
       "    <tr>\n",
       "      <th>...</th>\n",
       "      <td>...</td>\n",
       "    </tr>\n",
       "    <tr>\n",
       "      <th>1756</th>\n",
       "      <td>146.089996</td>\n",
       "    </tr>\n",
       "    <tr>\n",
       "      <th>1757</th>\n",
       "      <td>145.600006</td>\n",
       "    </tr>\n",
       "    <tr>\n",
       "      <th>1758</th>\n",
       "      <td>145.860001</td>\n",
       "    </tr>\n",
       "    <tr>\n",
       "      <th>1759</th>\n",
       "      <td>148.889999</td>\n",
       "    </tr>\n",
       "    <tr>\n",
       "      <th>1760</th>\n",
       "      <td>149.100006</td>\n",
       "    </tr>\n",
       "  </tbody>\n",
       "</table>\n",
       "<p>1761 rows × 1 columns</p>\n",
       "</div>"
      ],
      "text/plain": [
       "           Close\n",
       "0      24.790001\n",
       "1      25.132500\n",
       "2      25.142500\n",
       "3      25.145000\n",
       "4      25.330000\n",
       "...          ...\n",
       "1756  146.089996\n",
       "1757  145.600006\n",
       "1758  145.860001\n",
       "1759  148.889999\n",
       "1760  149.100006\n",
       "\n",
       "[1761 rows x 1 columns]"
      ]
     },
     "execution_count": 35,
     "metadata": {},
     "output_type": "execute_result"
    }
   ],
   "source": [
    "data_training"
   ]
  },
  {
   "cell_type": "code",
   "execution_count": 36,
   "id": "ca8224cc-6457-4d63-a688-abe3de7c67bc",
   "metadata": {},
   "outputs": [
    {
     "data": {
      "text/html": [
       "<div>\n",
       "<style scoped>\n",
       "    .dataframe tbody tr th:only-of-type {\n",
       "        vertical-align: middle;\n",
       "    }\n",
       "\n",
       "    .dataframe tbody tr th {\n",
       "        vertical-align: top;\n",
       "    }\n",
       "\n",
       "    .dataframe thead th {\n",
       "        text-align: right;\n",
       "    }\n",
       "</style>\n",
       "<table border=\"1\" class=\"dataframe\">\n",
       "  <thead>\n",
       "    <tr style=\"text-align: right;\">\n",
       "      <th></th>\n",
       "      <th>Close</th>\n",
       "    </tr>\n",
       "  </thead>\n",
       "  <tbody>\n",
       "    <tr>\n",
       "      <th>1761</th>\n",
       "      <td>151.119995</td>\n",
       "    </tr>\n",
       "    <tr>\n",
       "      <th>1762</th>\n",
       "      <td>150.190002</td>\n",
       "    </tr>\n",
       "    <tr>\n",
       "      <th>1763</th>\n",
       "      <td>146.360001</td>\n",
       "    </tr>\n",
       "    <tr>\n",
       "      <th>1764</th>\n",
       "      <td>146.699997</td>\n",
       "    </tr>\n",
       "    <tr>\n",
       "      <th>1765</th>\n",
       "      <td>148.190002</td>\n",
       "    </tr>\n",
       "    <tr>\n",
       "      <th>...</th>\n",
       "      <td>...</td>\n",
       "    </tr>\n",
       "    <tr>\n",
       "      <th>2512</th>\n",
       "      <td>217.529999</td>\n",
       "    </tr>\n",
       "    <tr>\n",
       "      <th>2513</th>\n",
       "      <td>221.270004</td>\n",
       "    </tr>\n",
       "    <tr>\n",
       "      <th>2514</th>\n",
       "      <td>221.720001</td>\n",
       "    </tr>\n",
       "    <tr>\n",
       "      <th>2515</th>\n",
       "      <td>224.720001</td>\n",
       "    </tr>\n",
       "    <tr>\n",
       "      <th>2516</th>\n",
       "      <td>226.050003</td>\n",
       "    </tr>\n",
       "  </tbody>\n",
       "</table>\n",
       "<p>756 rows × 1 columns</p>\n",
       "</div>"
      ],
      "text/plain": [
       "           Close\n",
       "1761  151.119995\n",
       "1762  150.190002\n",
       "1763  146.360001\n",
       "1764  146.699997\n",
       "1765  148.190002\n",
       "...          ...\n",
       "2512  217.529999\n",
       "2513  221.270004\n",
       "2514  221.720001\n",
       "2515  224.720001\n",
       "2516  226.050003\n",
       "\n",
       "[756 rows x 1 columns]"
      ]
     },
     "execution_count": 36,
     "metadata": {},
     "output_type": "execute_result"
    }
   ],
   "source": [
    "data_testing"
   ]
  },
  {
   "cell_type": "code",
   "execution_count": 37,
   "id": "e201e5e2-3600-4e90-90a8-eb40636a1830",
   "metadata": {},
   "outputs": [],
   "source": [
    "# Scaling down the data between 0 and 1"
   ]
  },
  {
   "cell_type": "code",
   "execution_count": 38,
   "id": "8712c658-1104-437b-9616-8a7db7b62723",
   "metadata": {},
   "outputs": [],
   "source": [
    "from sklearn.preprocessing import MinMaxScaler\n",
    "scaler = MinMaxScaler(feature_range=(0,1))"
   ]
  },
  {
   "cell_type": "code",
   "execution_count": 39,
   "id": "9d84aff7-1d6f-4c30-ae18-23633fe8c0e5",
   "metadata": {},
   "outputs": [
    {
     "data": {
      "text/plain": [
       "array([[0.01742189],\n",
       "       [0.020128  ],\n",
       "       [0.02020702],\n",
       "       ...,\n",
       "       [0.9740055 ],\n",
       "       [0.99794576],\n",
       "       [0.99960504]])"
      ]
     },
     "execution_count": 39,
     "metadata": {},
     "output_type": "execute_result"
    }
   ],
   "source": [
    "data_training_array = scaler.fit_transform(data_training)\n",
    "data_training_array"
   ]
  },
  {
   "cell_type": "code",
   "execution_count": 40,
   "id": "149395b0-80ea-4db5-bd51-43c342089550",
   "metadata": {},
   "outputs": [
    {
     "data": {
      "text/plain": [
       "numpy.ndarray"
      ]
     },
     "execution_count": 40,
     "metadata": {},
     "output_type": "execute_result"
    }
   ],
   "source": [
    "type(data_training_array)"
   ]
  },
  {
   "cell_type": "code",
   "execution_count": 41,
   "id": "08e8ad00-ee92-443f-80d3-147cc2d9dcc5",
   "metadata": {},
   "outputs": [
    {
     "data": {
      "text/plain": [
       "(1761, 1)"
      ]
     },
     "execution_count": 41,
     "metadata": {},
     "output_type": "execute_result"
    }
   ],
   "source": [
    "data_training_array.shape"
   ]
  },
  {
   "cell_type": "code",
   "execution_count": null,
   "id": "a8c44a16-4fe4-43dc-be99-cbc5a0f8dcb8",
   "metadata": {},
   "outputs": [],
   "source": []
  },
  {
   "cell_type": "markdown",
   "id": "c69f0462-fd02-4f01-a4ef-0a4f42f12bf4",
   "metadata": {},
   "source": [
    "# 5. Sequence Creation"
   ]
  },
  {
   "cell_type": "code",
   "execution_count": 42,
   "id": "8f046563-1e01-478d-abff-daa2506cd4a4",
   "metadata": {},
   "outputs": [],
   "source": [
    "# 12, 15, 10, 14, 16, 18, 19, 20, 21, 20      22"
   ]
  },
  {
   "cell_type": "code",
   "execution_count": null,
   "id": "32a3e55d-7c76-4ddf-a781-dd886e5e14d1",
   "metadata": {},
   "outputs": [],
   "source": []
  },
  {
   "cell_type": "code",
   "execution_count": 43,
   "id": "f115ea2c-4d24-45d4-8c20-cd4919f46457",
   "metadata": {},
   "outputs": [],
   "source": [
    "x_train = []\n",
    "y_train = []\n",
    "\n",
    "for i in range(100, data_training_array.shape[0]):\n",
    "    x_train.append(data_training_array[i-100: i])\n",
    "    y_train.append(data_training_array[i, 0])\n",
    "\n",
    "\n",
    "x_train, y_train = np.array(x_train), np.array(y_train)"
   ]
  },
  {
   "cell_type": "code",
   "execution_count": 44,
   "id": "5e6d7cc8-7f39-46ab-b8ca-023b89316915",
   "metadata": {},
   "outputs": [
    {
     "data": {
      "text/plain": [
       "array([[[0.01742189],\n",
       "        [0.020128  ],\n",
       "        [0.02020702],\n",
       "        ...,\n",
       "        [0.03144631],\n",
       "        [0.03438945],\n",
       "        [0.04256707]],\n",
       "\n",
       "       [[0.020128  ],\n",
       "        [0.02020702],\n",
       "        [0.02022677],\n",
       "        ...,\n",
       "        [0.03438945],\n",
       "        [0.04256707],\n",
       "        [0.04280411]],\n",
       "\n",
       "       [[0.02020702],\n",
       "        [0.02022677],\n",
       "        [0.02168847],\n",
       "        ...,\n",
       "        [0.04256707],\n",
       "        [0.04280411],\n",
       "        [0.03735236]],\n",
       "\n",
       "       ...,\n",
       "\n",
       "       [[0.76960457],\n",
       "        [0.79646825],\n",
       "        [0.78975235],\n",
       "        ...,\n",
       "        [0.9762178 ],\n",
       "        [0.97582272],\n",
       "        [0.97195127]],\n",
       "\n",
       "       [[0.79646825],\n",
       "        [0.78975235],\n",
       "        [0.77039467],\n",
       "        ...,\n",
       "        [0.97582272],\n",
       "        [0.97195127],\n",
       "        [0.9740055 ]],\n",
       "\n",
       "       [[0.78975235],\n",
       "        [0.77039467],\n",
       "        [0.77434521],\n",
       "        ...,\n",
       "        [0.97195127],\n",
       "        [0.9740055 ],\n",
       "        [0.99794576]]])"
      ]
     },
     "execution_count": 44,
     "metadata": {},
     "output_type": "execute_result"
    }
   ],
   "source": [
    "x_train"
   ]
  },
  {
   "cell_type": "code",
   "execution_count": 45,
   "id": "1114f403-0fb1-4123-aa2c-6c3e24363ad5",
   "metadata": {},
   "outputs": [
    {
     "data": {
      "text/plain": [
       "array([0.04280411, 0.03735236, 0.03926837, ..., 0.9740055 , 0.99794576,\n",
       "       0.99960504])"
      ]
     },
     "execution_count": 45,
     "metadata": {},
     "output_type": "execute_result"
    }
   ],
   "source": [
    "y_train"
   ]
  },
  {
   "cell_type": "code",
   "execution_count": 46,
   "id": "fd21cb94-68f3-497a-a99b-1e3478d552ff",
   "metadata": {},
   "outputs": [
    {
     "data": {
      "text/plain": [
       "(1661, 100, 1)"
      ]
     },
     "execution_count": 46,
     "metadata": {},
     "output_type": "execute_result"
    }
   ],
   "source": [
    "x_train.shape"
   ]
  },
  {
   "cell_type": "code",
   "execution_count": 47,
   "id": "2dfba926-5fea-4e7c-818b-6af646088a77",
   "metadata": {},
   "outputs": [
    {
     "data": {
      "text/plain": [
       "(1661,)"
      ]
     },
     "execution_count": 47,
     "metadata": {},
     "output_type": "execute_result"
    }
   ],
   "source": [
    "y_train.shape"
   ]
  },
  {
   "cell_type": "code",
   "execution_count": 48,
   "id": "150c62df-2ddd-43ae-8f7c-ff38bdfd1d9f",
   "metadata": {},
   "outputs": [
    {
     "data": {
      "text/plain": [
       "3"
      ]
     },
     "execution_count": 48,
     "metadata": {},
     "output_type": "execute_result"
    }
   ],
   "source": [
    "x_train.ndim"
   ]
  },
  {
   "cell_type": "code",
   "execution_count": null,
   "id": "8f88c49b-cf20-4f59-aaee-60884478924a",
   "metadata": {},
   "outputs": [],
   "source": []
  },
  {
   "cell_type": "markdown",
   "id": "65e68ef1-af5c-40fe-a987-9306c8ace742",
   "metadata": {},
   "source": [
    "# 6. Model Building"
   ]
  },
  {
   "cell_type": "code",
   "execution_count": 49,
   "id": "7d9d776d-5b20-42ba-ad65-be67c51dca3c",
   "metadata": {},
   "outputs": [
    {
     "name": "stdout",
     "output_type": "stream",
     "text": [
      "2.17.0\n"
     ]
    }
   ],
   "source": [
    "import tensorflow as tf\n",
    "print(tf.__version__)"
   ]
  },
  {
   "cell_type": "code",
   "execution_count": 50,
   "id": "8420e886-239c-48f1-bfd7-196642ed488c",
   "metadata": {},
   "outputs": [],
   "source": [
    "# ML Model\n",
    "from keras.models import Sequential\n",
    "from keras.layers import Dense, LSTM, Input"
   ]
  },
  {
   "cell_type": "code",
   "execution_count": 51,
   "id": "3cea4c41-5f8b-4360-854e-5e3934728ad5",
   "metadata": {},
   "outputs": [],
   "source": [
    "model = Sequential()\n",
    "\n",
    "model.add(Input(shape=(100, 1)))\n",
    "model.add(LSTM(units=128, activation='tanh', return_sequences=True))\n",
    "model.add(LSTM(units=64))\n",
    "model.add(Dense(25))\n",
    "model.add(Dense(1))"
   ]
  },
  {
   "cell_type": "code",
   "execution_count": null,
   "id": "ab2c28d6-1e34-46bf-b51b-b45ed4e87ef9",
   "metadata": {},
   "outputs": [],
   "source": []
  },
  {
   "cell_type": "markdown",
   "id": "de748527-e326-45ea-b36f-2f1dd8d4336f",
   "metadata": {},
   "source": [
    "# 7. Model Training"
   ]
  },
  {
   "cell_type": "code",
   "execution_count": 52,
   "id": "16d54ce3-c5e0-4586-9161-7f78432c5b5d",
   "metadata": {},
   "outputs": [
    {
     "name": "stdout",
     "output_type": "stream",
     "text": [
      "Epoch 1/50\n",
      "\u001b[1m52/52\u001b[0m \u001b[32m━━━━━━━━━━━━━━━━━━━━\u001b[0m\u001b[37m\u001b[0m \u001b[1m3s\u001b[0m 51ms/step - loss: 0.0178\n",
      "Epoch 2/50\n",
      "\u001b[1m52/52\u001b[0m \u001b[32m━━━━━━━━━━━━━━━━━━━━\u001b[0m\u001b[37m\u001b[0m \u001b[1m3s\u001b[0m 53ms/step - loss: 4.8930e-04\n",
      "Epoch 3/50\n",
      "\u001b[1m52/52\u001b[0m \u001b[32m━━━━━━━━━━━━━━━━━━━━\u001b[0m\u001b[37m\u001b[0m \u001b[1m3s\u001b[0m 57ms/step - loss: 4.9199e-04\n",
      "Epoch 4/50\n",
      "\u001b[1m52/52\u001b[0m \u001b[32m━━━━━━━━━━━━━━━━━━━━\u001b[0m\u001b[37m\u001b[0m \u001b[1m3s\u001b[0m 56ms/step - loss: 4.6109e-04\n",
      "Epoch 5/50\n",
      "\u001b[1m52/52\u001b[0m \u001b[32m━━━━━━━━━━━━━━━━━━━━\u001b[0m\u001b[37m\u001b[0m \u001b[1m3s\u001b[0m 57ms/step - loss: 4.9587e-04\n",
      "Epoch 6/50\n",
      "\u001b[1m52/52\u001b[0m \u001b[32m━━━━━━━━━━━━━━━━━━━━\u001b[0m\u001b[37m\u001b[0m \u001b[1m3s\u001b[0m 56ms/step - loss: 4.3976e-04\n",
      "Epoch 7/50\n",
      "\u001b[1m52/52\u001b[0m \u001b[32m━━━━━━━━━━━━━━━━━━━━\u001b[0m\u001b[37m\u001b[0m \u001b[1m3s\u001b[0m 56ms/step - loss: 4.0326e-04\n",
      "Epoch 8/50\n",
      "\u001b[1m52/52\u001b[0m \u001b[32m━━━━━━━━━━━━━━━━━━━━\u001b[0m\u001b[37m\u001b[0m \u001b[1m3s\u001b[0m 57ms/step - loss: 4.1403e-04\n",
      "Epoch 9/50\n",
      "\u001b[1m52/52\u001b[0m \u001b[32m━━━━━━━━━━━━━━━━━━━━\u001b[0m\u001b[37m\u001b[0m \u001b[1m3s\u001b[0m 56ms/step - loss: 3.4265e-04\n",
      "Epoch 10/50\n",
      "\u001b[1m52/52\u001b[0m \u001b[32m━━━━━━━━━━━━━━━━━━━━\u001b[0m\u001b[37m\u001b[0m \u001b[1m3s\u001b[0m 62ms/step - loss: 3.7798e-04\n",
      "Epoch 11/50\n",
      "\u001b[1m52/52\u001b[0m \u001b[32m━━━━━━━━━━━━━━━━━━━━\u001b[0m\u001b[37m\u001b[0m \u001b[1m3s\u001b[0m 58ms/step - loss: 3.3383e-04\n",
      "Epoch 12/50\n",
      "\u001b[1m52/52\u001b[0m \u001b[32m━━━━━━━━━━━━━━━━━━━━\u001b[0m\u001b[37m\u001b[0m \u001b[1m3s\u001b[0m 57ms/step - loss: 3.4349e-04\n",
      "Epoch 13/50\n",
      "\u001b[1m52/52\u001b[0m \u001b[32m━━━━━━━━━━━━━━━━━━━━\u001b[0m\u001b[37m\u001b[0m \u001b[1m3s\u001b[0m 56ms/step - loss: 3.0759e-04\n",
      "Epoch 14/50\n",
      "\u001b[1m52/52\u001b[0m \u001b[32m━━━━━━━━━━━━━━━━━━━━\u001b[0m\u001b[37m\u001b[0m \u001b[1m3s\u001b[0m 58ms/step - loss: 2.7318e-04\n",
      "Epoch 15/50\n",
      "\u001b[1m52/52\u001b[0m \u001b[32m━━━━━━━━━━━━━━━━━━━━\u001b[0m\u001b[37m\u001b[0m \u001b[1m3s\u001b[0m 57ms/step - loss: 2.6358e-04\n",
      "Epoch 16/50\n",
      "\u001b[1m52/52\u001b[0m \u001b[32m━━━━━━━━━━━━━━━━━━━━\u001b[0m\u001b[37m\u001b[0m \u001b[1m3s\u001b[0m 58ms/step - loss: 3.1833e-04\n",
      "Epoch 17/50\n",
      "\u001b[1m52/52\u001b[0m \u001b[32m━━━━━━━━━━━━━━━━━━━━\u001b[0m\u001b[37m\u001b[0m \u001b[1m3s\u001b[0m 57ms/step - loss: 2.7461e-04\n",
      "Epoch 18/50\n",
      "\u001b[1m52/52\u001b[0m \u001b[32m━━━━━━━━━━━━━━━━━━━━\u001b[0m\u001b[37m\u001b[0m \u001b[1m3s\u001b[0m 58ms/step - loss: 2.9627e-04\n",
      "Epoch 19/50\n",
      "\u001b[1m52/52\u001b[0m \u001b[32m━━━━━━━━━━━━━━━━━━━━\u001b[0m\u001b[37m\u001b[0m \u001b[1m3s\u001b[0m 58ms/step - loss: 2.8898e-04\n",
      "Epoch 20/50\n",
      "\u001b[1m52/52\u001b[0m \u001b[32m━━━━━━━━━━━━━━━━━━━━\u001b[0m\u001b[37m\u001b[0m \u001b[1m3s\u001b[0m 57ms/step - loss: 2.4247e-04\n",
      "Epoch 21/50\n",
      "\u001b[1m52/52\u001b[0m \u001b[32m━━━━━━━━━━━━━━━━━━━━\u001b[0m\u001b[37m\u001b[0m \u001b[1m3s\u001b[0m 58ms/step - loss: 2.8736e-04\n",
      "Epoch 22/50\n",
      "\u001b[1m52/52\u001b[0m \u001b[32m━━━━━━━━━━━━━━━━━━━━\u001b[0m\u001b[37m\u001b[0m \u001b[1m3s\u001b[0m 57ms/step - loss: 2.5712e-04\n",
      "Epoch 23/50\n",
      "\u001b[1m52/52\u001b[0m \u001b[32m━━━━━━━━━━━━━━━━━━━━\u001b[0m\u001b[37m\u001b[0m \u001b[1m3s\u001b[0m 58ms/step - loss: 3.1333e-04\n",
      "Epoch 24/50\n",
      "\u001b[1m52/52\u001b[0m \u001b[32m━━━━━━━━━━━━━━━━━━━━\u001b[0m\u001b[37m\u001b[0m \u001b[1m3s\u001b[0m 59ms/step - loss: 2.3836e-04\n",
      "Epoch 25/50\n",
      "\u001b[1m52/52\u001b[0m \u001b[32m━━━━━━━━━━━━━━━━━━━━\u001b[0m\u001b[37m\u001b[0m \u001b[1m3s\u001b[0m 58ms/step - loss: 2.3622e-04\n",
      "Epoch 26/50\n",
      "\u001b[1m52/52\u001b[0m \u001b[32m━━━━━━━━━━━━━━━━━━━━\u001b[0m\u001b[37m\u001b[0m \u001b[1m3s\u001b[0m 58ms/step - loss: 2.2345e-04\n",
      "Epoch 27/50\n",
      "\u001b[1m52/52\u001b[0m \u001b[32m━━━━━━━━━━━━━━━━━━━━\u001b[0m\u001b[37m\u001b[0m \u001b[1m3s\u001b[0m 59ms/step - loss: 2.1885e-04\n",
      "Epoch 28/50\n",
      "\u001b[1m52/52\u001b[0m \u001b[32m━━━━━━━━━━━━━━━━━━━━\u001b[0m\u001b[37m\u001b[0m \u001b[1m3s\u001b[0m 59ms/step - loss: 2.1956e-04\n",
      "Epoch 29/50\n",
      "\u001b[1m52/52\u001b[0m \u001b[32m━━━━━━━━━━━━━━━━━━━━\u001b[0m\u001b[37m\u001b[0m \u001b[1m3s\u001b[0m 57ms/step - loss: 2.0253e-04\n",
      "Epoch 30/50\n",
      "\u001b[1m52/52\u001b[0m \u001b[32m━━━━━━━━━━━━━━━━━━━━\u001b[0m\u001b[37m\u001b[0m \u001b[1m3s\u001b[0m 58ms/step - loss: 2.8440e-04\n",
      "Epoch 31/50\n",
      "\u001b[1m52/52\u001b[0m \u001b[32m━━━━━━━━━━━━━━━━━━━━\u001b[0m\u001b[37m\u001b[0m \u001b[1m3s\u001b[0m 58ms/step - loss: 2.3404e-04\n",
      "Epoch 32/50\n",
      "\u001b[1m52/52\u001b[0m \u001b[32m━━━━━━━━━━━━━━━━━━━━\u001b[0m\u001b[37m\u001b[0m \u001b[1m3s\u001b[0m 57ms/step - loss: 3.1531e-04\n",
      "Epoch 33/50\n",
      "\u001b[1m52/52\u001b[0m \u001b[32m━━━━━━━━━━━━━━━━━━━━\u001b[0m\u001b[37m\u001b[0m \u001b[1m3s\u001b[0m 57ms/step - loss: 2.1677e-04\n",
      "Epoch 34/50\n",
      "\u001b[1m52/52\u001b[0m \u001b[32m━━━━━━━━━━━━━━━━━━━━\u001b[0m\u001b[37m\u001b[0m \u001b[1m3s\u001b[0m 57ms/step - loss: 1.9794e-04\n",
      "Epoch 35/50\n",
      "\u001b[1m52/52\u001b[0m \u001b[32m━━━━━━━━━━━━━━━━━━━━\u001b[0m\u001b[37m\u001b[0m \u001b[1m3s\u001b[0m 59ms/step - loss: 2.2646e-04\n",
      "Epoch 36/50\n",
      "\u001b[1m52/52\u001b[0m \u001b[32m━━━━━━━━━━━━━━━━━━━━\u001b[0m\u001b[37m\u001b[0m \u001b[1m3s\u001b[0m 57ms/step - loss: 1.7772e-04\n",
      "Epoch 37/50\n",
      "\u001b[1m52/52\u001b[0m \u001b[32m━━━━━━━━━━━━━━━━━━━━\u001b[0m\u001b[37m\u001b[0m \u001b[1m3s\u001b[0m 58ms/step - loss: 2.2415e-04\n",
      "Epoch 38/50\n",
      "\u001b[1m52/52\u001b[0m \u001b[32m━━━━━━━━━━━━━━━━━━━━\u001b[0m\u001b[37m\u001b[0m \u001b[1m3s\u001b[0m 58ms/step - loss: 2.2473e-04\n",
      "Epoch 39/50\n",
      "\u001b[1m52/52\u001b[0m \u001b[32m━━━━━━━━━━━━━━━━━━━━\u001b[0m\u001b[37m\u001b[0m \u001b[1m3s\u001b[0m 61ms/step - loss: 1.6189e-04\n",
      "Epoch 40/50\n",
      "\u001b[1m52/52\u001b[0m \u001b[32m━━━━━━━━━━━━━━━━━━━━\u001b[0m\u001b[37m\u001b[0m \u001b[1m3s\u001b[0m 61ms/step - loss: 1.5485e-04\n",
      "Epoch 41/50\n",
      "\u001b[1m52/52\u001b[0m \u001b[32m━━━━━━━━━━━━━━━━━━━━\u001b[0m\u001b[37m\u001b[0m \u001b[1m3s\u001b[0m 61ms/step - loss: 1.6641e-04\n",
      "Epoch 42/50\n",
      "\u001b[1m52/52\u001b[0m \u001b[32m━━━━━━━━━━━━━━━━━━━━\u001b[0m\u001b[37m\u001b[0m \u001b[1m3s\u001b[0m 61ms/step - loss: 1.3600e-04\n",
      "Epoch 43/50\n",
      "\u001b[1m52/52\u001b[0m \u001b[32m━━━━━━━━━━━━━━━━━━━━\u001b[0m\u001b[37m\u001b[0m \u001b[1m4s\u001b[0m 67ms/step - loss: 1.3838e-04\n",
      "Epoch 44/50\n",
      "\u001b[1m52/52\u001b[0m \u001b[32m━━━━━━━━━━━━━━━━━━━━\u001b[0m\u001b[37m\u001b[0m \u001b[1m3s\u001b[0m 59ms/step - loss: 1.6292e-04\n",
      "Epoch 45/50\n",
      "\u001b[1m52/52\u001b[0m \u001b[32m━━━━━━━━━━━━━━━━━━━━\u001b[0m\u001b[37m\u001b[0m \u001b[1m3s\u001b[0m 60ms/step - loss: 2.4967e-04\n",
      "Epoch 46/50\n",
      "\u001b[1m52/52\u001b[0m \u001b[32m━━━━━━━━━━━━━━━━━━━━\u001b[0m\u001b[37m\u001b[0m \u001b[1m3s\u001b[0m 59ms/step - loss: 2.5552e-04\n",
      "Epoch 47/50\n",
      "\u001b[1m52/52\u001b[0m \u001b[32m━━━━━━━━━━━━━━━━━━━━\u001b[0m\u001b[37m\u001b[0m \u001b[1m3s\u001b[0m 59ms/step - loss: 2.7132e-04\n",
      "Epoch 48/50\n",
      "\u001b[1m52/52\u001b[0m \u001b[32m━━━━━━━━━━━━━━━━━━━━\u001b[0m\u001b[37m\u001b[0m \u001b[1m3s\u001b[0m 60ms/step - loss: 1.4481e-04\n",
      "Epoch 49/50\n",
      "\u001b[1m52/52\u001b[0m \u001b[32m━━━━━━━━━━━━━━━━━━━━\u001b[0m\u001b[37m\u001b[0m \u001b[1m3s\u001b[0m 59ms/step - loss: 1.3541e-04\n",
      "Epoch 50/50\n",
      "\u001b[1m52/52\u001b[0m \u001b[32m━━━━━━━━━━━━━━━━━━━━\u001b[0m\u001b[37m\u001b[0m \u001b[1m3s\u001b[0m 60ms/step - loss: 1.3489e-04\n"
     ]
    },
    {
     "data": {
      "text/plain": [
       "<keras.src.callbacks.history.History at 0x3172f94c0>"
      ]
     },
     "execution_count": 52,
     "metadata": {},
     "output_type": "execute_result"
    }
   ],
   "source": [
    "model.compile(optimizer='adam', loss='mean_squared_error')\n",
    "model.fit(x_train, y_train, epochs=50)"
   ]
  },
  {
   "cell_type": "code",
   "execution_count": 53,
   "id": "c5301404-b22e-44c6-b6b7-76c17038c1cc",
   "metadata": {},
   "outputs": [
    {
     "data": {
      "text/html": [
       "<pre style=\"white-space:pre;overflow-x:auto;line-height:normal;font-family:Menlo,'DejaVu Sans Mono',consolas,'Courier New',monospace\"><span style=\"font-weight: bold\">Model: \"sequential\"</span>\n",
       "</pre>\n"
      ],
      "text/plain": [
       "\u001b[1mModel: \"sequential\"\u001b[0m\n"
      ]
     },
     "metadata": {},
     "output_type": "display_data"
    },
    {
     "data": {
      "text/html": [
       "<pre style=\"white-space:pre;overflow-x:auto;line-height:normal;font-family:Menlo,'DejaVu Sans Mono',consolas,'Courier New',monospace\">┏━━━━━━━━━━━━━━━━━━━━━━━━━━━━━━━━━┳━━━━━━━━━━━━━━━━━━━━━━━━┳━━━━━━━━━━━━━━━┓\n",
       "┃<span style=\"font-weight: bold\"> Layer (type)                    </span>┃<span style=\"font-weight: bold\"> Output Shape           </span>┃<span style=\"font-weight: bold\">       Param # </span>┃\n",
       "┡━━━━━━━━━━━━━━━━━━━━━━━━━━━━━━━━━╇━━━━━━━━━━━━━━━━━━━━━━━━╇━━━━━━━━━━━━━━━┩\n",
       "│ lstm (<span style=\"color: #0087ff; text-decoration-color: #0087ff\">LSTM</span>)                     │ (<span style=\"color: #00d7ff; text-decoration-color: #00d7ff\">None</span>, <span style=\"color: #00af00; text-decoration-color: #00af00\">100</span>, <span style=\"color: #00af00; text-decoration-color: #00af00\">128</span>)       │        <span style=\"color: #00af00; text-decoration-color: #00af00\">66,560</span> │\n",
       "├─────────────────────────────────┼────────────────────────┼───────────────┤\n",
       "│ lstm_1 (<span style=\"color: #0087ff; text-decoration-color: #0087ff\">LSTM</span>)                   │ (<span style=\"color: #00d7ff; text-decoration-color: #00d7ff\">None</span>, <span style=\"color: #00af00; text-decoration-color: #00af00\">64</span>)             │        <span style=\"color: #00af00; text-decoration-color: #00af00\">49,408</span> │\n",
       "├─────────────────────────────────┼────────────────────────┼───────────────┤\n",
       "│ dense (<span style=\"color: #0087ff; text-decoration-color: #0087ff\">Dense</span>)                   │ (<span style=\"color: #00d7ff; text-decoration-color: #00d7ff\">None</span>, <span style=\"color: #00af00; text-decoration-color: #00af00\">25</span>)             │         <span style=\"color: #00af00; text-decoration-color: #00af00\">1,625</span> │\n",
       "├─────────────────────────────────┼────────────────────────┼───────────────┤\n",
       "│ dense_1 (<span style=\"color: #0087ff; text-decoration-color: #0087ff\">Dense</span>)                 │ (<span style=\"color: #00d7ff; text-decoration-color: #00d7ff\">None</span>, <span style=\"color: #00af00; text-decoration-color: #00af00\">1</span>)              │            <span style=\"color: #00af00; text-decoration-color: #00af00\">26</span> │\n",
       "└─────────────────────────────────┴────────────────────────┴───────────────┘\n",
       "</pre>\n"
      ],
      "text/plain": [
       "┏━━━━━━━━━━━━━━━━━━━━━━━━━━━━━━━━━┳━━━━━━━━━━━━━━━━━━━━━━━━┳━━━━━━━━━━━━━━━┓\n",
       "┃\u001b[1m \u001b[0m\u001b[1mLayer (type)                   \u001b[0m\u001b[1m \u001b[0m┃\u001b[1m \u001b[0m\u001b[1mOutput Shape          \u001b[0m\u001b[1m \u001b[0m┃\u001b[1m \u001b[0m\u001b[1m      Param #\u001b[0m\u001b[1m \u001b[0m┃\n",
       "┡━━━━━━━━━━━━━━━━━━━━━━━━━━━━━━━━━╇━━━━━━━━━━━━━━━━━━━━━━━━╇━━━━━━━━━━━━━━━┩\n",
       "│ lstm (\u001b[38;5;33mLSTM\u001b[0m)                     │ (\u001b[38;5;45mNone\u001b[0m, \u001b[38;5;34m100\u001b[0m, \u001b[38;5;34m128\u001b[0m)       │        \u001b[38;5;34m66,560\u001b[0m │\n",
       "├─────────────────────────────────┼────────────────────────┼───────────────┤\n",
       "│ lstm_1 (\u001b[38;5;33mLSTM\u001b[0m)                   │ (\u001b[38;5;45mNone\u001b[0m, \u001b[38;5;34m64\u001b[0m)             │        \u001b[38;5;34m49,408\u001b[0m │\n",
       "├─────────────────────────────────┼────────────────────────┼───────────────┤\n",
       "│ dense (\u001b[38;5;33mDense\u001b[0m)                   │ (\u001b[38;5;45mNone\u001b[0m, \u001b[38;5;34m25\u001b[0m)             │         \u001b[38;5;34m1,625\u001b[0m │\n",
       "├─────────────────────────────────┼────────────────────────┼───────────────┤\n",
       "│ dense_1 (\u001b[38;5;33mDense\u001b[0m)                 │ (\u001b[38;5;45mNone\u001b[0m, \u001b[38;5;34m1\u001b[0m)              │            \u001b[38;5;34m26\u001b[0m │\n",
       "└─────────────────────────────────┴────────────────────────┴───────────────┘\n"
      ]
     },
     "metadata": {},
     "output_type": "display_data"
    },
    {
     "data": {
      "text/html": [
       "<pre style=\"white-space:pre;overflow-x:auto;line-height:normal;font-family:Menlo,'DejaVu Sans Mono',consolas,'Courier New',monospace\"><span style=\"font-weight: bold\"> Total params: </span><span style=\"color: #00af00; text-decoration-color: #00af00\">352,859</span> (1.35 MB)\n",
       "</pre>\n"
      ],
      "text/plain": [
       "\u001b[1m Total params: \u001b[0m\u001b[38;5;34m352,859\u001b[0m (1.35 MB)\n"
      ]
     },
     "metadata": {},
     "output_type": "display_data"
    },
    {
     "data": {
      "text/html": [
       "<pre style=\"white-space:pre;overflow-x:auto;line-height:normal;font-family:Menlo,'DejaVu Sans Mono',consolas,'Courier New',monospace\"><span style=\"font-weight: bold\"> Trainable params: </span><span style=\"color: #00af00; text-decoration-color: #00af00\">117,619</span> (459.45 KB)\n",
       "</pre>\n"
      ],
      "text/plain": [
       "\u001b[1m Trainable params: \u001b[0m\u001b[38;5;34m117,619\u001b[0m (459.45 KB)\n"
      ]
     },
     "metadata": {},
     "output_type": "display_data"
    },
    {
     "data": {
      "text/html": [
       "<pre style=\"white-space:pre;overflow-x:auto;line-height:normal;font-family:Menlo,'DejaVu Sans Mono',consolas,'Courier New',monospace\"><span style=\"font-weight: bold\"> Non-trainable params: </span><span style=\"color: #00af00; text-decoration-color: #00af00\">0</span> (0.00 B)\n",
       "</pre>\n"
      ],
      "text/plain": [
       "\u001b[1m Non-trainable params: \u001b[0m\u001b[38;5;34m0\u001b[0m (0.00 B)\n"
      ]
     },
     "metadata": {},
     "output_type": "display_data"
    },
    {
     "data": {
      "text/html": [
       "<pre style=\"white-space:pre;overflow-x:auto;line-height:normal;font-family:Menlo,'DejaVu Sans Mono',consolas,'Courier New',monospace\"><span style=\"font-weight: bold\"> Optimizer params: </span><span style=\"color: #00af00; text-decoration-color: #00af00\">235,240</span> (918.91 KB)\n",
       "</pre>\n"
      ],
      "text/plain": [
       "\u001b[1m Optimizer params: \u001b[0m\u001b[38;5;34m235,240\u001b[0m (918.91 KB)\n"
      ]
     },
     "metadata": {},
     "output_type": "display_data"
    }
   ],
   "source": [
    "model.summary()"
   ]
  },
  {
   "cell_type": "code",
   "execution_count": 54,
   "id": "2f722e5c-9d3a-488c-9570-1ae9d95f2cfc",
   "metadata": {},
   "outputs": [],
   "source": [
    "# Save the trained model\n",
    "model.save('stock_prediction_model.keras')"
   ]
  },
  {
   "cell_type": "code",
   "execution_count": null,
   "id": "a738baac-9d98-451f-abfe-4d797e484f15",
   "metadata": {},
   "outputs": [],
   "source": []
  },
  {
   "cell_type": "markdown",
   "id": "75eeac7a-9e29-4da4-af04-987aca444c14",
   "metadata": {},
   "source": [
    "# 8. Preparing Test Data"
   ]
  },
  {
   "cell_type": "code",
   "execution_count": 55,
   "id": "4ac076e2-5545-4b9e-b236-bc584a5ca9fc",
   "metadata": {},
   "outputs": [
    {
     "data": {
      "text/html": [
       "<div>\n",
       "<style scoped>\n",
       "    .dataframe tbody tr th:only-of-type {\n",
       "        vertical-align: middle;\n",
       "    }\n",
       "\n",
       "    .dataframe tbody tr th {\n",
       "        vertical-align: top;\n",
       "    }\n",
       "\n",
       "    .dataframe thead th {\n",
       "        text-align: right;\n",
       "    }\n",
       "</style>\n",
       "<table border=\"1\" class=\"dataframe\">\n",
       "  <thead>\n",
       "    <tr style=\"text-align: right;\">\n",
       "      <th></th>\n",
       "      <th>Close</th>\n",
       "    </tr>\n",
       "  </thead>\n",
       "  <tbody>\n",
       "    <tr>\n",
       "      <th>1661</th>\n",
       "      <td>120.089996</td>\n",
       "    </tr>\n",
       "    <tr>\n",
       "      <th>1662</th>\n",
       "      <td>120.589996</td>\n",
       "    </tr>\n",
       "    <tr>\n",
       "      <th>1663</th>\n",
       "      <td>121.209999</td>\n",
       "    </tr>\n",
       "    <tr>\n",
       "      <th>1664</th>\n",
       "      <td>121.389999</td>\n",
       "    </tr>\n",
       "    <tr>\n",
       "      <th>1665</th>\n",
       "      <td>119.900002</td>\n",
       "    </tr>\n",
       "    <tr>\n",
       "      <th>...</th>\n",
       "      <td>...</td>\n",
       "    </tr>\n",
       "    <tr>\n",
       "      <th>1756</th>\n",
       "      <td>146.089996</td>\n",
       "    </tr>\n",
       "    <tr>\n",
       "      <th>1757</th>\n",
       "      <td>145.600006</td>\n",
       "    </tr>\n",
       "    <tr>\n",
       "      <th>1758</th>\n",
       "      <td>145.860001</td>\n",
       "    </tr>\n",
       "    <tr>\n",
       "      <th>1759</th>\n",
       "      <td>148.889999</td>\n",
       "    </tr>\n",
       "    <tr>\n",
       "      <th>1760</th>\n",
       "      <td>149.100006</td>\n",
       "    </tr>\n",
       "  </tbody>\n",
       "</table>\n",
       "<p>100 rows × 1 columns</p>\n",
       "</div>"
      ],
      "text/plain": [
       "           Close\n",
       "1661  120.089996\n",
       "1662  120.589996\n",
       "1663  121.209999\n",
       "1664  121.389999\n",
       "1665  119.900002\n",
       "...          ...\n",
       "1756  146.089996\n",
       "1757  145.600006\n",
       "1758  145.860001\n",
       "1759  148.889999\n",
       "1760  149.100006\n",
       "\n",
       "[100 rows x 1 columns]"
      ]
     },
     "execution_count": 55,
     "metadata": {},
     "output_type": "execute_result"
    }
   ],
   "source": [
    "data_training.tail(100)"
   ]
  },
  {
   "cell_type": "code",
   "execution_count": 56,
   "id": "93596586-ece5-4b78-b318-ef6714d305fc",
   "metadata": {},
   "outputs": [
    {
     "data": {
      "text/html": [
       "<div>\n",
       "<style scoped>\n",
       "    .dataframe tbody tr th:only-of-type {\n",
       "        vertical-align: middle;\n",
       "    }\n",
       "\n",
       "    .dataframe tbody tr th {\n",
       "        vertical-align: top;\n",
       "    }\n",
       "\n",
       "    .dataframe thead th {\n",
       "        text-align: right;\n",
       "    }\n",
       "</style>\n",
       "<table border=\"1\" class=\"dataframe\">\n",
       "  <thead>\n",
       "    <tr style=\"text-align: right;\">\n",
       "      <th></th>\n",
       "      <th>Close</th>\n",
       "    </tr>\n",
       "  </thead>\n",
       "  <tbody>\n",
       "    <tr>\n",
       "      <th>1761</th>\n",
       "      <td>151.119995</td>\n",
       "    </tr>\n",
       "    <tr>\n",
       "      <th>1762</th>\n",
       "      <td>150.190002</td>\n",
       "    </tr>\n",
       "    <tr>\n",
       "      <th>1763</th>\n",
       "      <td>146.360001</td>\n",
       "    </tr>\n",
       "    <tr>\n",
       "      <th>1764</th>\n",
       "      <td>146.699997</td>\n",
       "    </tr>\n",
       "    <tr>\n",
       "      <th>1765</th>\n",
       "      <td>148.190002</td>\n",
       "    </tr>\n",
       "    <tr>\n",
       "      <th>...</th>\n",
       "      <td>...</td>\n",
       "    </tr>\n",
       "    <tr>\n",
       "      <th>2512</th>\n",
       "      <td>217.529999</td>\n",
       "    </tr>\n",
       "    <tr>\n",
       "      <th>2513</th>\n",
       "      <td>221.270004</td>\n",
       "    </tr>\n",
       "    <tr>\n",
       "      <th>2514</th>\n",
       "      <td>221.720001</td>\n",
       "    </tr>\n",
       "    <tr>\n",
       "      <th>2515</th>\n",
       "      <td>224.720001</td>\n",
       "    </tr>\n",
       "    <tr>\n",
       "      <th>2516</th>\n",
       "      <td>226.050003</td>\n",
       "    </tr>\n",
       "  </tbody>\n",
       "</table>\n",
       "<p>756 rows × 1 columns</p>\n",
       "</div>"
      ],
      "text/plain": [
       "           Close\n",
       "1761  151.119995\n",
       "1762  150.190002\n",
       "1763  146.360001\n",
       "1764  146.699997\n",
       "1765  148.190002\n",
       "...          ...\n",
       "2512  217.529999\n",
       "2513  221.270004\n",
       "2514  221.720001\n",
       "2515  224.720001\n",
       "2516  226.050003\n",
       "\n",
       "[756 rows x 1 columns]"
      ]
     },
     "execution_count": 56,
     "metadata": {},
     "output_type": "execute_result"
    }
   ],
   "source": [
    "data_testing"
   ]
  },
  {
   "cell_type": "code",
   "execution_count": 57,
   "id": "1c51c47d-6f0b-4954-87da-9dd0a0b51e74",
   "metadata": {},
   "outputs": [],
   "source": [
    "past_100_days = data_training.tail(100)"
   ]
  },
  {
   "cell_type": "code",
   "execution_count": 58,
   "id": "cbd88b07-927c-4d69-adff-941bb12a004a",
   "metadata": {},
   "outputs": [
    {
     "data": {
      "text/html": [
       "<div>\n",
       "<style scoped>\n",
       "    .dataframe tbody tr th:only-of-type {\n",
       "        vertical-align: middle;\n",
       "    }\n",
       "\n",
       "    .dataframe tbody tr th {\n",
       "        vertical-align: top;\n",
       "    }\n",
       "\n",
       "    .dataframe thead th {\n",
       "        text-align: right;\n",
       "    }\n",
       "</style>\n",
       "<table border=\"1\" class=\"dataframe\">\n",
       "  <thead>\n",
       "    <tr style=\"text-align: right;\">\n",
       "      <th></th>\n",
       "      <th>Close</th>\n",
       "    </tr>\n",
       "  </thead>\n",
       "  <tbody>\n",
       "    <tr>\n",
       "      <th>1661</th>\n",
       "      <td>120.089996</td>\n",
       "    </tr>\n",
       "    <tr>\n",
       "      <th>1662</th>\n",
       "      <td>120.589996</td>\n",
       "    </tr>\n",
       "    <tr>\n",
       "      <th>1663</th>\n",
       "      <td>121.209999</td>\n",
       "    </tr>\n",
       "    <tr>\n",
       "      <th>1664</th>\n",
       "      <td>121.389999</td>\n",
       "    </tr>\n",
       "    <tr>\n",
       "      <th>1665</th>\n",
       "      <td>119.900002</td>\n",
       "    </tr>\n",
       "    <tr>\n",
       "      <th>...</th>\n",
       "      <td>...</td>\n",
       "    </tr>\n",
       "    <tr>\n",
       "      <th>1756</th>\n",
       "      <td>146.089996</td>\n",
       "    </tr>\n",
       "    <tr>\n",
       "      <th>1757</th>\n",
       "      <td>145.600006</td>\n",
       "    </tr>\n",
       "    <tr>\n",
       "      <th>1758</th>\n",
       "      <td>145.860001</td>\n",
       "    </tr>\n",
       "    <tr>\n",
       "      <th>1759</th>\n",
       "      <td>148.889999</td>\n",
       "    </tr>\n",
       "    <tr>\n",
       "      <th>1760</th>\n",
       "      <td>149.100006</td>\n",
       "    </tr>\n",
       "  </tbody>\n",
       "</table>\n",
       "<p>100 rows × 1 columns</p>\n",
       "</div>"
      ],
      "text/plain": [
       "           Close\n",
       "1661  120.089996\n",
       "1662  120.589996\n",
       "1663  121.209999\n",
       "1664  121.389999\n",
       "1665  119.900002\n",
       "...          ...\n",
       "1756  146.089996\n",
       "1757  145.600006\n",
       "1758  145.860001\n",
       "1759  148.889999\n",
       "1760  149.100006\n",
       "\n",
       "[100 rows x 1 columns]"
      ]
     },
     "execution_count": 58,
     "metadata": {},
     "output_type": "execute_result"
    }
   ],
   "source": [
    "past_100_days"
   ]
  },
  {
   "cell_type": "code",
   "execution_count": 59,
   "id": "c32a8da1-b3b8-4790-a825-938e7e449fff",
   "metadata": {},
   "outputs": [
    {
     "data": {
      "text/html": [
       "<div>\n",
       "<style scoped>\n",
       "    .dataframe tbody tr th:only-of-type {\n",
       "        vertical-align: middle;\n",
       "    }\n",
       "\n",
       "    .dataframe tbody tr th {\n",
       "        vertical-align: top;\n",
       "    }\n",
       "\n",
       "    .dataframe thead th {\n",
       "        text-align: right;\n",
       "    }\n",
       "</style>\n",
       "<table border=\"1\" class=\"dataframe\">\n",
       "  <thead>\n",
       "    <tr style=\"text-align: right;\">\n",
       "      <th></th>\n",
       "      <th>Close</th>\n",
       "    </tr>\n",
       "  </thead>\n",
       "  <tbody>\n",
       "    <tr>\n",
       "      <th>0</th>\n",
       "      <td>120.089996</td>\n",
       "    </tr>\n",
       "    <tr>\n",
       "      <th>1</th>\n",
       "      <td>120.589996</td>\n",
       "    </tr>\n",
       "    <tr>\n",
       "      <th>2</th>\n",
       "      <td>121.209999</td>\n",
       "    </tr>\n",
       "    <tr>\n",
       "      <th>3</th>\n",
       "      <td>121.389999</td>\n",
       "    </tr>\n",
       "    <tr>\n",
       "      <th>4</th>\n",
       "      <td>119.900002</td>\n",
       "    </tr>\n",
       "    <tr>\n",
       "      <th>...</th>\n",
       "      <td>...</td>\n",
       "    </tr>\n",
       "    <tr>\n",
       "      <th>851</th>\n",
       "      <td>217.529999</td>\n",
       "    </tr>\n",
       "    <tr>\n",
       "      <th>852</th>\n",
       "      <td>221.270004</td>\n",
       "    </tr>\n",
       "    <tr>\n",
       "      <th>853</th>\n",
       "      <td>221.720001</td>\n",
       "    </tr>\n",
       "    <tr>\n",
       "      <th>854</th>\n",
       "      <td>224.720001</td>\n",
       "    </tr>\n",
       "    <tr>\n",
       "      <th>855</th>\n",
       "      <td>226.050003</td>\n",
       "    </tr>\n",
       "  </tbody>\n",
       "</table>\n",
       "<p>856 rows × 1 columns</p>\n",
       "</div>"
      ],
      "text/plain": [
       "          Close\n",
       "0    120.089996\n",
       "1    120.589996\n",
       "2    121.209999\n",
       "3    121.389999\n",
       "4    119.900002\n",
       "..          ...\n",
       "851  217.529999\n",
       "852  221.270004\n",
       "853  221.720001\n",
       "854  224.720001\n",
       "855  226.050003\n",
       "\n",
       "[856 rows x 1 columns]"
      ]
     },
     "execution_count": 59,
     "metadata": {},
     "output_type": "execute_result"
    }
   ],
   "source": [
    "final_df = pd.concat([past_100_days, data_testing], ignore_index=True)\n",
    "final_df"
   ]
  },
  {
   "cell_type": "code",
   "execution_count": 60,
   "id": "065c697f-0892-4cc9-8965-657381482e85",
   "metadata": {},
   "outputs": [],
   "source": [
    "input_data = scaler.fit_transform(final_df)\n",
    "# input_data"
   ]
  },
  {
   "cell_type": "code",
   "execution_count": 61,
   "id": "5f807bba-ceb7-440b-b610-0c01a4bfecf5",
   "metadata": {},
   "outputs": [
    {
     "data": {
      "text/plain": [
       "(856, 1)"
      ]
     },
     "execution_count": 61,
     "metadata": {},
     "output_type": "execute_result"
    }
   ],
   "source": [
    "input_data.shape"
   ]
  },
  {
   "cell_type": "code",
   "execution_count": 62,
   "id": "a8a7a82a-2247-48f4-8238-cdd13128d509",
   "metadata": {},
   "outputs": [],
   "source": [
    "x_test = []\n",
    "y_test = []\n",
    "\n",
    "for i in range(100, input_data.shape[0]):\n",
    "    x_test.append(input_data[i-100: i])\n",
    "    y_test.append(input_data[i, 0])"
   ]
  },
  {
   "cell_type": "code",
   "execution_count": 63,
   "id": "24e093a0-c0dd-4117-82d5-8aee77040d6e",
   "metadata": {},
   "outputs": [],
   "source": [
    "x_test, y_test = np.array(x_test), np.array(y_test)"
   ]
  },
  {
   "cell_type": "code",
   "execution_count": 64,
   "id": "cbce9d30-38b4-48be-bc84-5992157380b5",
   "metadata": {},
   "outputs": [
    {
     "data": {
      "text/plain": [
       "(100, 1)"
      ]
     },
     "execution_count": 64,
     "metadata": {},
     "output_type": "execute_result"
    }
   ],
   "source": [
    "x_test[0].shape"
   ]
  },
  {
   "cell_type": "code",
   "execution_count": 65,
   "id": "969bb9aa-443d-47af-9c40-ddb8f57a56c3",
   "metadata": {},
   "outputs": [
    {
     "data": {
      "text/plain": [
       "array([[[0.00165328],\n",
       "        [0.00600413],\n",
       "        [0.01139921],\n",
       "        ...,\n",
       "        [0.22589626],\n",
       "        [0.25226241],\n",
       "        [0.25408983]],\n",
       "\n",
       "       [[0.00600413],\n",
       "        [0.01139921],\n",
       "        [0.01296552],\n",
       "        ...,\n",
       "        [0.25226241],\n",
       "        [0.25408983],\n",
       "        [0.27166718]],\n",
       "\n",
       "       [[0.01139921],\n",
       "        [0.01296552],\n",
       "        [0.        ],\n",
       "        ...,\n",
       "        [0.25408983],\n",
       "        [0.27166718],\n",
       "        [0.26357466]],\n",
       "\n",
       "       ...,\n",
       "\n",
       "       [[0.44787671],\n",
       "        [0.45579529],\n",
       "        [0.44335191],\n",
       "        ...,\n",
       "        [0.8383223 ],\n",
       "        [0.84954744],\n",
       "        [0.88209187]],\n",
       "\n",
       "       [[0.45579529],\n",
       "        [0.44335191],\n",
       "        [0.43343198],\n",
       "        ...,\n",
       "        [0.84954744],\n",
       "        [0.88209187],\n",
       "        [0.88600761]],\n",
       "\n",
       "       [[0.44335191],\n",
       "        [0.43343198],\n",
       "        [0.46475803],\n",
       "        ...,\n",
       "        [0.88209187],\n",
       "        [0.88600761],\n",
       "        [0.91211273]]])"
      ]
     },
     "execution_count": 65,
     "metadata": {},
     "output_type": "execute_result"
    }
   ],
   "source": [
    "x_test"
   ]
  },
  {
   "cell_type": "markdown",
   "id": "c6ecff8c-3802-407b-a8bf-6634bbcf79c1",
   "metadata": {},
   "source": [
    "# 9. Making Predictions"
   ]
  },
  {
   "cell_type": "code",
   "execution_count": 66,
   "id": "dcd435d0-4782-4f29-960e-466148a6421a",
   "metadata": {},
   "outputs": [
    {
     "name": "stdout",
     "output_type": "stream",
     "text": [
      "\u001b[1m24/24\u001b[0m \u001b[32m━━━━━━━━━━━━━━━━━━━━\u001b[0m\u001b[37m\u001b[0m \u001b[1m1s\u001b[0m 21ms/step\n"
     ]
    }
   ],
   "source": [
    "y_predicted = model.predict(x_test)"
   ]
  },
  {
   "cell_type": "code",
   "execution_count": 67,
   "id": "c85420bc-2ca8-4c4f-989d-8168430e9280",
   "metadata": {},
   "outputs": [],
   "source": [
    "# y_predicted"
   ]
  },
  {
   "cell_type": "code",
   "execution_count": 68,
   "id": "c1776042-cb38-4685-8a3e-203427bd1868",
   "metadata": {},
   "outputs": [],
   "source": [
    "# y_test"
   ]
  },
  {
   "cell_type": "code",
   "execution_count": null,
   "id": "0dd9a941-451c-4f05-aa3a-79be46cb4af3",
   "metadata": {},
   "outputs": [],
   "source": []
  },
  {
   "cell_type": "code",
   "execution_count": 69,
   "id": "4d4f399f-159e-4e2f-b4e2-62cc7d6bcdda",
   "metadata": {},
   "outputs": [],
   "source": [
    "y_predicted = scaler.inverse_transform(y_predicted.reshape(-1, 1)).flatten()\n",
    "y_test = scaler.inverse_transform(y_test.reshape(-1, 1)).flatten()"
   ]
  },
  {
   "cell_type": "code",
   "execution_count": 70,
   "id": "2496a397-6551-45b0-b065-067b866550c9",
   "metadata": {},
   "outputs": [],
   "source": [
    "# y_predicted"
   ]
  },
  {
   "cell_type": "code",
   "execution_count": 71,
   "id": "9adfe89c-6117-4567-a86b-933d89b065e9",
   "metadata": {},
   "outputs": [],
   "source": [
    "# y_test"
   ]
  },
  {
   "cell_type": "code",
   "execution_count": 72,
   "id": "7f8682cb-f347-49ba-abda-23d701851081",
   "metadata": {},
   "outputs": [
    {
     "data": {
      "text/plain": [
       "<matplotlib.legend.Legend at 0x317e668a0>"
      ]
     },
     "execution_count": 72,
     "metadata": {},
     "output_type": "execute_result"
    },
    {
     "data": {
      "image/png": "[encoded data removed]",
      "text/plain": [
       "<Figure size 1200x600 with 1 Axes>"
      ]
     },
     "metadata": {},
     "output_type": "display_data"
    }
   ],
   "source": [
    "plt.figure(figsize=(12, 6))\n",
    "plt.plot(y_test, 'b', label='Original Price')\n",
    "plt.plot(y_predicted, 'r', label='Predicted Price')\n",
    "plt.xlabel('Days')\n",
    "plt.ylabel('Price')\n",
    "plt.legend()"
   ]
  },
  {
   "cell_type": "code",
   "execution_count": 73,
   "id": "78f7f7cc-de40-4e0a-8126-8f4afbb2f03c",
   "metadata": {},
   "outputs": [
    {
     "data": {
      "text/plain": [
       "(140.0, 220.0)"
      ]
     },
     "execution_count": 73,
     "metadata": {},
     "output_type": "execute_result"
    },
    {
     "data": {
      "image/png": "[encoded data removed]",
      "text/plain": [
       "<Figure size 1200x600 with 1 Axes>"
      ]
     },
     "metadata": {},
     "output_type": "display_data"
    }
   ],
   "source": [
    "plt.figure(figsize=(12, 6))\n",
    "plt.plot(y_test, 'b', label='Original Price')\n",
    "plt.plot(y_predicted, 'r', label='Predicted Price')\n",
    "plt.xlabel('Days')\n",
    "plt.ylabel('Price')\n",
    "plt.legend()\n",
    "plt.xlim(450, 750)\n",
    "plt.ylim(140, 220)"
   ]
  },
  {
   "cell_type": "code",
   "execution_count": null,
   "id": "e7f14159-8716-418f-9218-4a243ed71a72",
   "metadata": {},
   "outputs": [],
   "source": []
  },
  {
   "cell_type": "markdown",
   "id": "8dc062ee-3f2c-4731-b8ff-fcf2d523c705",
   "metadata": {},
   "source": [
    "# 10. Model Evaluation"
   ]
  },
  {
   "cell_type": "code",
   "execution_count": 74,
   "id": "9ce27081-2fca-4377-9f4d-2403ffe34dc6",
   "metadata": {},
   "outputs": [],
   "source": [
    "# Mean Squared Error (MSE)\n",
    "from sklearn.metrics import mean_squared_error, r2_score"
   ]
  },
  {
   "cell_type": "code",
   "execution_count": 75,
   "id": "124f817e-9c29-4ff5-91a6-6f0d0a3f0e59",
   "metadata": {},
   "outputs": [
    {
     "name": "stdout",
     "output_type": "stream",
     "text": [
      "Mean Squared Error (MSE): 10.58892854531833\n"
     ]
    }
   ],
   "source": [
    "mse = mean_squared_error(y_test, y_predicted)\n",
    "print(f\"Mean Squared Error (MSE): {mse}\")"
   ]
  },
  {
   "cell_type": "code",
   "execution_count": null,
   "id": "49db13d4-6209-48b4-91bc-2673c0260402",
   "metadata": {},
   "outputs": [],
   "source": []
  },
  {
   "cell_type": "code",
   "execution_count": 76,
   "id": "0a2a9416-033d-44c5-81bb-547c6941842e",
   "metadata": {},
   "outputs": [
    {
     "name": "stdout",
     "output_type": "stream",
     "text": [
      "Root Mean Squared Error (RMSE): 3.2540633898740094\n"
     ]
    }
   ],
   "source": [
    "# Root Mean Squared Error (RMSE)\n",
    "rmse = np.sqrt(mse)\n",
    "print(f\"Root Mean Squared Error (RMSE): {rmse}\")"
   ]
  },
  {
   "cell_type": "code",
   "execution_count": null,
   "id": "71a22243-9e2c-43c0-b520-1af0e548daef",
   "metadata": {},
   "outputs": [],
   "source": []
  },
  {
   "cell_type": "code",
   "execution_count": 77,
   "id": "2f6c3d43-58c5-449f-9af8-52c0aba67a9a",
   "metadata": {},
   "outputs": [
    {
     "name": "stdout",
     "output_type": "stream",
     "text": [
      "R-Squared: 0.9770196037228732\n"
     ]
    }
   ],
   "source": [
    "# R-Squared\n",
    "r2 = r2_score(y_test, y_predicted)\n",
    "print(f\"R-Squared: {r2}\")"
   ]
  },
  {
   "cell_type": "code",
   "execution_count": null,
   "id": "c7c075d2-ab4c-4788-9053-ed2ee8ebed26",
   "metadata": {},
   "outputs": [],
   "source": []
  }
 ],
 "metadata": {
  "kernelspec": {
   "display_name": "Python 3 (ipykernel)",
   "language": "python",
   "name": "python3"
  },
  "language_info": {
   "codemirror_mode": {
    "name": "ipython",
    "version": 3
   },
   "file_extension": ".py",
   "mimetype": "text/x-python",
   "name": "python",
   "nbconvert_exporter": "python",
   "pygments_lexer": "ipython3",
   "version": "3.12.4"
  }
 },
 "nbformat": 4,
 "nbformat_minor": 5
}
